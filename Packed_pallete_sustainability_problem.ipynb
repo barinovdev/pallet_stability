{
 "cells": [
  {
   "cell_type": "markdown",
   "metadata": {},
   "source": [
    "# Packing stability problem"
   ]
  },
  {
   "cell_type": "code",
   "execution_count": 534,
   "metadata": {
    "collapsed": false
   },
   "outputs": [],
   "source": [
    "from pandas import DataFrame, read_csv\n",
    "import os\n",
    "from os import listdir\n",
    "from os.path import isfile, join\n",
    "import math\n",
    "import numpy as np\n",
    "import random\n",
    "import copy"
   ]
  },
  {
   "cell_type": "code",
   "execution_count": 535,
   "metadata": {
    "collapsed": false
   },
   "outputs": [
    {
     "data": {
      "text/plain": [
       "['0-out.csv',\n",
       " '1-out.csv',\n",
       " '2-out.csv',\n",
       " '3-out.csv',\n",
       " '4-out.csv',\n",
       " '5-out.csv',\n",
       " '6-out.csv',\n",
       " '7-out.csv',\n",
       " '8-out.csv',\n",
       " '9-out.csv']"
      ]
     },
     "execution_count": 535,
     "metadata": {},
     "output_type": "execute_result"
    }
   ],
   "source": [
    "file_list = [f for f in listdir(os.getcwd()) if isfile(f) and ('csv' in f)]\n",
    "file_list"
   ]
  },
  {
   "cell_type": "code",
   "execution_count": 536,
   "metadata": {
    "collapsed": false
   },
   "outputs": [
    {
     "data": {
      "text/html": [
       "<div>\n",
       "<table border=\"1\" class=\"dataframe\">\n",
       "  <thead>\n",
       "    <tr style=\"text-align: right;\">\n",
       "      <th></th>\n",
       "      <th>SKU</th>\n",
       "      <th>X1</th>\n",
       "      <th>Y1</th>\n",
       "      <th>Z1</th>\n",
       "      <th>X2</th>\n",
       "      <th>Y2</th>\n",
       "      <th>Z2</th>\n",
       "      <th>Aisle</th>\n",
       "      <th>Weight</th>\n",
       "    </tr>\n",
       "  </thead>\n",
       "  <tbody>\n",
       "    <tr>\n",
       "      <th>0</th>\n",
       "      <td>900001</td>\n",
       "      <td>0</td>\n",
       "      <td>0</td>\n",
       "      <td>0</td>\n",
       "      <td>600</td>\n",
       "      <td>400</td>\n",
       "      <td>200</td>\n",
       "      <td>1</td>\n",
       "      <td>12000</td>\n",
       "    </tr>\n",
       "    <tr>\n",
       "      <th>1</th>\n",
       "      <td>900001</td>\n",
       "      <td>0</td>\n",
       "      <td>400</td>\n",
       "      <td>0</td>\n",
       "      <td>600</td>\n",
       "      <td>800</td>\n",
       "      <td>200</td>\n",
       "      <td>1</td>\n",
       "      <td>12000</td>\n",
       "    </tr>\n",
       "    <tr>\n",
       "      <th>2</th>\n",
       "      <td>900001</td>\n",
       "      <td>600</td>\n",
       "      <td>0</td>\n",
       "      <td>0</td>\n",
       "      <td>1200</td>\n",
       "      <td>400</td>\n",
       "      <td>200</td>\n",
       "      <td>1</td>\n",
       "      <td>12000</td>\n",
       "    </tr>\n",
       "    <tr>\n",
       "      <th>3</th>\n",
       "      <td>900001</td>\n",
       "      <td>600</td>\n",
       "      <td>400</td>\n",
       "      <td>0</td>\n",
       "      <td>1200</td>\n",
       "      <td>800</td>\n",
       "      <td>200</td>\n",
       "      <td>1</td>\n",
       "      <td>12000</td>\n",
       "    </tr>\n",
       "    <tr>\n",
       "      <th>4</th>\n",
       "      <td>900001</td>\n",
       "      <td>0</td>\n",
       "      <td>0</td>\n",
       "      <td>200</td>\n",
       "      <td>600</td>\n",
       "      <td>400</td>\n",
       "      <td>400</td>\n",
       "      <td>1</td>\n",
       "      <td>12000</td>\n",
       "    </tr>\n",
       "    <tr>\n",
       "      <th>5</th>\n",
       "      <td>900001</td>\n",
       "      <td>0</td>\n",
       "      <td>400</td>\n",
       "      <td>200</td>\n",
       "      <td>600</td>\n",
       "      <td>800</td>\n",
       "      <td>400</td>\n",
       "      <td>1</td>\n",
       "      <td>12000</td>\n",
       "    </tr>\n",
       "    <tr>\n",
       "      <th>6</th>\n",
       "      <td>900001</td>\n",
       "      <td>600</td>\n",
       "      <td>0</td>\n",
       "      <td>200</td>\n",
       "      <td>1200</td>\n",
       "      <td>400</td>\n",
       "      <td>400</td>\n",
       "      <td>1</td>\n",
       "      <td>12000</td>\n",
       "    </tr>\n",
       "    <tr>\n",
       "      <th>7</th>\n",
       "      <td>900001</td>\n",
       "      <td>600</td>\n",
       "      <td>400</td>\n",
       "      <td>200</td>\n",
       "      <td>1200</td>\n",
       "      <td>800</td>\n",
       "      <td>400</td>\n",
       "      <td>1</td>\n",
       "      <td>12000</td>\n",
       "    </tr>\n",
       "    <tr>\n",
       "      <th>8</th>\n",
       "      <td>900001</td>\n",
       "      <td>0</td>\n",
       "      <td>0</td>\n",
       "      <td>400</td>\n",
       "      <td>600</td>\n",
       "      <td>400</td>\n",
       "      <td>600</td>\n",
       "      <td>1</td>\n",
       "      <td>12000</td>\n",
       "    </tr>\n",
       "    <tr>\n",
       "      <th>9</th>\n",
       "      <td>900001</td>\n",
       "      <td>0</td>\n",
       "      <td>400</td>\n",
       "      <td>400</td>\n",
       "      <td>600</td>\n",
       "      <td>800</td>\n",
       "      <td>600</td>\n",
       "      <td>1</td>\n",
       "      <td>12000</td>\n",
       "    </tr>\n",
       "    <tr>\n",
       "      <th>10</th>\n",
       "      <td>900001</td>\n",
       "      <td>600</td>\n",
       "      <td>0</td>\n",
       "      <td>400</td>\n",
       "      <td>1200</td>\n",
       "      <td>400</td>\n",
       "      <td>600</td>\n",
       "      <td>1</td>\n",
       "      <td>12000</td>\n",
       "    </tr>\n",
       "    <tr>\n",
       "      <th>11</th>\n",
       "      <td>900001</td>\n",
       "      <td>600</td>\n",
       "      <td>400</td>\n",
       "      <td>400</td>\n",
       "      <td>1200</td>\n",
       "      <td>800</td>\n",
       "      <td>600</td>\n",
       "      <td>1</td>\n",
       "      <td>12000</td>\n",
       "    </tr>\n",
       "    <tr>\n",
       "      <th>12</th>\n",
       "      <td>900002</td>\n",
       "      <td>0</td>\n",
       "      <td>0</td>\n",
       "      <td>600</td>\n",
       "      <td>400</td>\n",
       "      <td>200</td>\n",
       "      <td>800</td>\n",
       "      <td>2</td>\n",
       "      <td>5000</td>\n",
       "    </tr>\n",
       "    <tr>\n",
       "      <th>13</th>\n",
       "      <td>900002</td>\n",
       "      <td>0</td>\n",
       "      <td>200</td>\n",
       "      <td>600</td>\n",
       "      <td>400</td>\n",
       "      <td>400</td>\n",
       "      <td>800</td>\n",
       "      <td>2</td>\n",
       "      <td>5000</td>\n",
       "    </tr>\n",
       "    <tr>\n",
       "      <th>14</th>\n",
       "      <td>900002</td>\n",
       "      <td>400</td>\n",
       "      <td>0</td>\n",
       "      <td>600</td>\n",
       "      <td>800</td>\n",
       "      <td>200</td>\n",
       "      <td>800</td>\n",
       "      <td>2</td>\n",
       "      <td>5000</td>\n",
       "    </tr>\n",
       "    <tr>\n",
       "      <th>15</th>\n",
       "      <td>900002</td>\n",
       "      <td>0</td>\n",
       "      <td>400</td>\n",
       "      <td>600</td>\n",
       "      <td>400</td>\n",
       "      <td>600</td>\n",
       "      <td>800</td>\n",
       "      <td>2</td>\n",
       "      <td>5000</td>\n",
       "    </tr>\n",
       "    <tr>\n",
       "      <th>16</th>\n",
       "      <td>900002</td>\n",
       "      <td>400</td>\n",
       "      <td>200</td>\n",
       "      <td>600</td>\n",
       "      <td>800</td>\n",
       "      <td>400</td>\n",
       "      <td>800</td>\n",
       "      <td>2</td>\n",
       "      <td>5000</td>\n",
       "    </tr>\n",
       "    <tr>\n",
       "      <th>17</th>\n",
       "      <td>900002</td>\n",
       "      <td>0</td>\n",
       "      <td>600</td>\n",
       "      <td>600</td>\n",
       "      <td>400</td>\n",
       "      <td>800</td>\n",
       "      <td>800</td>\n",
       "      <td>2</td>\n",
       "      <td>5000</td>\n",
       "    </tr>\n",
       "    <tr>\n",
       "      <th>18</th>\n",
       "      <td>900002</td>\n",
       "      <td>400</td>\n",
       "      <td>400</td>\n",
       "      <td>600</td>\n",
       "      <td>800</td>\n",
       "      <td>600</td>\n",
       "      <td>800</td>\n",
       "      <td>2</td>\n",
       "      <td>5000</td>\n",
       "    </tr>\n",
       "    <tr>\n",
       "      <th>19</th>\n",
       "      <td>900002</td>\n",
       "      <td>400</td>\n",
       "      <td>600</td>\n",
       "      <td>600</td>\n",
       "      <td>800</td>\n",
       "      <td>800</td>\n",
       "      <td>800</td>\n",
       "      <td>2</td>\n",
       "      <td>5000</td>\n",
       "    </tr>\n",
       "    <tr>\n",
       "      <th>20</th>\n",
       "      <td>900002</td>\n",
       "      <td>800</td>\n",
       "      <td>0</td>\n",
       "      <td>600</td>\n",
       "      <td>1200</td>\n",
       "      <td>200</td>\n",
       "      <td>800</td>\n",
       "      <td>2</td>\n",
       "      <td>5000</td>\n",
       "    </tr>\n",
       "    <tr>\n",
       "      <th>21</th>\n",
       "      <td>900002</td>\n",
       "      <td>800</td>\n",
       "      <td>200</td>\n",
       "      <td>600</td>\n",
       "      <td>1200</td>\n",
       "      <td>400</td>\n",
       "      <td>800</td>\n",
       "      <td>2</td>\n",
       "      <td>5000</td>\n",
       "    </tr>\n",
       "  </tbody>\n",
       "</table>\n",
       "</div>"
      ],
      "text/plain": [
       "       SKU   X1   Y1   Z1    X2   Y2   Z2  Aisle  Weight\n",
       "0   900001    0    0    0   600  400  200      1   12000\n",
       "1   900001    0  400    0   600  800  200      1   12000\n",
       "2   900001  600    0    0  1200  400  200      1   12000\n",
       "3   900001  600  400    0  1200  800  200      1   12000\n",
       "4   900001    0    0  200   600  400  400      1   12000\n",
       "5   900001    0  400  200   600  800  400      1   12000\n",
       "6   900001  600    0  200  1200  400  400      1   12000\n",
       "7   900001  600  400  200  1200  800  400      1   12000\n",
       "8   900001    0    0  400   600  400  600      1   12000\n",
       "9   900001    0  400  400   600  800  600      1   12000\n",
       "10  900001  600    0  400  1200  400  600      1   12000\n",
       "11  900001  600  400  400  1200  800  600      1   12000\n",
       "12  900002    0    0  600   400  200  800      2    5000\n",
       "13  900002    0  200  600   400  400  800      2    5000\n",
       "14  900002  400    0  600   800  200  800      2    5000\n",
       "15  900002    0  400  600   400  600  800      2    5000\n",
       "16  900002  400  200  600   800  400  800      2    5000\n",
       "17  900002    0  600  600   400  800  800      2    5000\n",
       "18  900002  400  400  600   800  600  800      2    5000\n",
       "19  900002  400  600  600   800  800  800      2    5000\n",
       "20  900002  800    0  600  1200  200  800      2    5000\n",
       "21  900002  800  200  600  1200  400  800      2    5000"
      ]
     },
     "execution_count": 536,
     "metadata": {},
     "output_type": "execute_result"
    }
   ],
   "source": [
    "def loadData(file_name):\n",
    "    data = read_csv(os.getcwd()+'/'+ file_name, sep=',', index_col=False, skiprows = 1, names=['SKU', 'X1', 'Y1', 'Z1', 'X2', 'Y2', 'Z2', 'Aisle', 'Weight'])\n",
    "    return data\n",
    "file_name = '0-out.csv'\n",
    "data = loadData(file_name)\n",
    "data.head(0)"
   ]
  },
  {
   "cell_type": "code",
   "execution_count": 556,
   "metadata": {
    "collapsed": false
   },
   "outputs": [],
   "source": [
    "class box():\n",
    "    def __init__(self, SKU, x_1, y_1, z_1, x_2, y_2, z_2, weight):\n",
    "        self.SKU = SKU\n",
    "        self.size = [x_2 - x_1, y_2 - y_1, z_2 - z_1]\n",
    "        #self.coords = self.size\n",
    "        #self.rotation = 3\n",
    "        self.weight = weight\n",
    "        self.attPoint = [x_1, y_1, z_1]\n",
    "        self.farCorner = [x_2, y_2, z_2]\n",
    "    \n",
    "    #вернуть SKU\n",
    "    def getSKU(self):\n",
    "        return self.SKU\n",
    "\n",
    "    #вернуть длину (x по умолчанию)\n",
    "    def getLength(self):\n",
    "        return self.size[0]\n",
    "\n",
    "    #вернуть ширину (y по умолчанию)\n",
    "    def getWidth(self):\n",
    "        return self.size[1]\n",
    "\n",
    "    #вернуть высоту (z по умолчанию)\n",
    "    def getHeight(self):\n",
    "        return self.size[2]\n",
    "    \n",
    "    #вернуть периметр основания коробки\n",
    "    def getPerimeter(self):\n",
    "        return self.size[0] * 2 + self.size[1] * 2\n",
    "\n",
    "    #вернуть свои исходные размеры\n",
    "    def getSize(self):\n",
    "        return list(self.size)\n",
    "\n",
    "    #вернуть вес\n",
    "    def getWeight(self):\n",
    "        return self.weight\n",
    "\n",
    "    def __repr__(self):\n",
    "        return 'Box(SKU=%s, attPoint=%s, farCorner=%s, weight = %s)' % (self.SKU,self.attPoint, self.farCorner, self.weight)\n",
    "\n",
    "    def getAttPoint(self):\n",
    "        return list(self.attPoint)\n",
    "\n",
    "    def getFarCorner(self):\n",
    "        return list(self.farCorner)\n",
    "\n",
    "    def getCenterMassX(self):\n",
    "        return ((self.farCorner[0]+self.attPoint[0]) / 2.0)\n",
    "    \n",
    "    def getCenterMassY(self):\n",
    "        return ((self.farCorner[1]+self.attPoint[1]) / 2.0)\n",
    "    \n",
    "    def getCenterMassZ(self):\n",
    "        return ((self.farCorner[2]+self.attPoint[2]) / 2.0)\n",
    "        \n",
    "    def getUpperPlane(self):\n",
    "        return ((self.attPoint[0],self.attPoint[1], self.farCorner[2]), (self.farCorner[0],self.farCorner[1], self.farCorner[2]))\n",
    "\n",
    "    def __eq__(self, other):\n",
    "        if (self.getSKU() == other.getSKU() and self.getFarCorner() == other.getFarCorner() \n",
    "                 and self.attPoint() == other.attPoint()):\n",
    "            return True\n",
    "        else:\n",
    "            return False\n",
    "\n",
    "    def __ne__(self, other):\n",
    "        if  not (self.farCorner[0] == other.farCorner[0] and \n",
    "                 self.farCorner[1] == other.farCorner[1] and \n",
    "                 self.farCorner[2] == other.farCorner[2]and \n",
    "                 self.attPoint[0] == other.attPoint[0] and \n",
    "                 self.attPoint[1] == other.attPoint[1] and \n",
    "                 self.attPoint[2] == other.attPoint[2]):\n",
    "            return True\n",
    "        else:\n",
    "            return False"
   ]
  },
  {
   "cell_type": "code",
   "execution_count": 557,
   "metadata": {
    "collapsed": false
   },
   "outputs": [
    {
     "data": {
      "text/plain": [
       "[Box(SKU=900001, attPoint=[0, 0, 0], farCorner=[600, 400, 200], weight = 12000),\n",
       " Box(SKU=900001, attPoint=[0, 400, 0], farCorner=[600, 800, 200], weight = 12000),\n",
       " Box(SKU=900001, attPoint=[600, 0, 0], farCorner=[1200, 400, 200], weight = 12000),\n",
       " Box(SKU=900001, attPoint=[600, 400, 0], farCorner=[1200, 800, 200], weight = 12000),\n",
       " Box(SKU=900001, attPoint=[0, 0, 200], farCorner=[600, 400, 400], weight = 12000),\n",
       " Box(SKU=900001, attPoint=[0, 400, 200], farCorner=[600, 800, 400], weight = 12000),\n",
       " Box(SKU=900001, attPoint=[600, 0, 200], farCorner=[1200, 400, 400], weight = 12000),\n",
       " Box(SKU=900001, attPoint=[600, 400, 200], farCorner=[1200, 800, 400], weight = 12000),\n",
       " Box(SKU=900001, attPoint=[0, 0, 400], farCorner=[600, 400, 600], weight = 12000),\n",
       " Box(SKU=900001, attPoint=[0, 400, 400], farCorner=[600, 800, 600], weight = 12000),\n",
       " Box(SKU=900001, attPoint=[600, 0, 400], farCorner=[1200, 400, 600], weight = 12000),\n",
       " Box(SKU=900001, attPoint=[600, 400, 400], farCorner=[1200, 800, 600], weight = 12000),\n",
       " Box(SKU=900002, attPoint=[0, 0, 600], farCorner=[400, 200, 800], weight = 5000),\n",
       " Box(SKU=900002, attPoint=[0, 200, 600], farCorner=[400, 400, 800], weight = 5000),\n",
       " Box(SKU=900002, attPoint=[400, 0, 600], farCorner=[800, 200, 800], weight = 5000),\n",
       " Box(SKU=900002, attPoint=[0, 400, 600], farCorner=[400, 600, 800], weight = 5000),\n",
       " Box(SKU=900002, attPoint=[400, 200, 600], farCorner=[800, 400, 800], weight = 5000),\n",
       " Box(SKU=900002, attPoint=[0, 600, 600], farCorner=[400, 800, 800], weight = 5000),\n",
       " Box(SKU=900002, attPoint=[400, 400, 600], farCorner=[800, 600, 800], weight = 5000),\n",
       " Box(SKU=900002, attPoint=[400, 600, 600], farCorner=[800, 800, 800], weight = 5000),\n",
       " Box(SKU=900002, attPoint=[800, 0, 600], farCorner=[1200, 200, 800], weight = 5000)]"
      ]
     },
     "execution_count": 557,
     "metadata": {},
     "output_type": "execute_result"
    }
   ],
   "source": [
    "boxes = []\n",
    "\n",
    "for i in range(0, len(data) - 1):\n",
    "    #print data['SKU'][i], data['X1'][i], data['Y1'][i], data['Z1'][i], data['X2'][i], data['Y2'][i], data['Z2'][i], data['Weight'][i]\n",
    "    boxes.append(box(data['SKU'][i], data['X1'][i], data['Y1'][i], data['Z1'][i], data['X2'][i], data['Y2'][i], data['Z2'][i], data['Weight'][i]))\n",
    "boxes"
   ]
  },
  {
   "cell_type": "code",
   "execution_count": 558,
   "metadata": {
    "collapsed": false
   },
   "outputs": [],
   "source": [
    "boxess = []\n",
    "b1 = box(1, 0,0,0,10,10,10, 100)\n",
    "b2 = box(1, 10,0,0,20,10,10, 100)\n",
    "boxess.append(b1)\n",
    "boxess.append(b2)"
   ]
  },
  {
   "cell_type": "code",
   "execution_count": 559,
   "metadata": {
    "collapsed": false
   },
   "outputs": [],
   "source": [
    "def getCenterMass(boxes):\n",
    "    #x_total = boxes[0].getCenterMassX()\n",
    "    #y_total = boxes[0].getCenterMassY()\n",
    "    #z_total = boxes[0].getCenterMassZ()\n",
    "    weight_total = 0\n",
    "    sum_r_x = 0\n",
    "    sum_r_y = 0\n",
    "    sum_r_z = 0\n",
    "    \n",
    "    for each in boxes:\n",
    "        sum_r_x += each.getCenterMassX() * each.getWeight()\n",
    "        sum_r_y += each.getCenterMassY() * each.getWeight()\n",
    "        sum_r_z += each.getCenterMassZ() * each.getWeight()\n",
    "        #x_total = (each.getCenterMassX() * each.getWeight() + x_total * weight_total) / (weight_total + each.getWeight())\n",
    "        #y_total = (each.getCenterMassY() * each.getWeight() + y_total * weight_total) / (weight_total + each.getWeight())\n",
    "        #z_total = (each.getCenterMassZ() * each.getWeight() + x_total * weight_total) / (weight_total + each.getWeight())\n",
    "        weight_total += each.getWeight()\n",
    "    \n",
    "    cm_x = sum_r_x / weight_total\n",
    "    cm_y = sum_r_y / weight_total\n",
    "    cm_z = sum_r_z / weight_total\n",
    "    \n",
    "    return (cm_x, cm_y, cm_z)"
   ]
  },
  {
   "cell_type": "code",
   "execution_count": 560,
   "metadata": {
    "collapsed": false
   },
   "outputs": [
    {
     "data": {
      "text/plain": [
       "(568.25396825396831, 392.06349206349205, 395.23809523809524)"
      ]
     },
     "execution_count": 560,
     "metadata": {},
     "output_type": "execute_result"
    }
   ],
   "source": [
    "getCenterMass(boxes)"
   ]
  },
  {
   "cell_type": "code",
   "execution_count": 561,
   "metadata": {
    "collapsed": true
   },
   "outputs": [],
   "source": [
    "def perimeter_all(boxess):\n",
    "    perimeter_all = 0\n",
    "    for each in boxess:\n",
    "        perimeter_all += each.getPerimeter()\n",
    "    return perimeter_all"
   ]
  },
  {
   "cell_type": "code",
   "execution_count": 562,
   "metadata": {
    "collapsed": false
   },
   "outputs": [
    {
     "name": "stdout",
     "output_type": "stream",
     "text": [
      "34800\n"
     ]
    }
   ],
   "source": [
    "print perimeter_all(boxes)"
   ]
  },
  {
   "cell_type": "code",
   "execution_count": 563,
   "metadata": {
    "collapsed": false
   },
   "outputs": [],
   "source": [
    "def perimeter_common(box1, box2):\n",
    "    \n",
    "    def getOverlap(a, b):\n",
    "            return max(0, min(a[1], b[1]) - max(a[0], b[0]))\n",
    "\n",
    "    def line_x(box1,box2):\n",
    "        l_x_1 = (box1.attPoint[0], box1.farCorner[0])\n",
    "        l_x_2 = (box2.attPoint[0], box2.farCorner[0])\n",
    "        return getOverlap(l_x_1, l_x_2)\n",
    "\n",
    "    def line_y(box1,box2):\n",
    "        l_y_1 = (box1.attPoint[1], box1.farCorner[1])\n",
    "        l_y_2 = (box2.attPoint[1], box2.farCorner[1])\n",
    "        return getOverlap(l_y_1, l_y_2)\n",
    "    \n",
    "    return ((line_x(box1,box2) + line_y(box1,box2)) * 2) if line_x(box1, box2) * line_y(box1, box2) != 0 else 0"
   ]
  },
  {
   "cell_type": "code",
   "execution_count": 564,
   "metadata": {
    "collapsed": false
   },
   "outputs": [],
   "source": [
    "def isSameHeight(box1, box2):\n",
    "    if box1.attPoint[2] == box2.farCorner[2]:\n",
    "        return True\n",
    "    else: \n",
    "        return False"
   ]
  },
  {
   "cell_type": "code",
   "execution_count": 565,
   "metadata": {
    "collapsed": true
   },
   "outputs": [],
   "source": [
    "def perimeter_com_all(boxes):\n",
    "    per_com_all = 0\n",
    "    for each in boxes:\n",
    "        for each1 in boxes:\n",
    "            if (each != each1 and isSameHeight(each, each1)):\n",
    "                per_com_all += perimeter_common(each, each1)\n",
    "    return per_com_all"
   ]
  },
  {
   "cell_type": "code",
   "execution_count": 566,
   "metadata": {
    "collapsed": false
   },
   "outputs": [
    {
     "name": "stdout",
     "output_type": "stream",
     "text": [
      "28400\n"
     ]
    }
   ],
   "source": [
    "print perimeter_com_all(boxes)"
   ]
  },
  {
   "cell_type": "code",
   "execution_count": 573,
   "metadata": {
    "collapsed": false
   },
   "outputs": [],
   "source": [
    "def stability_coeff(boxes):\n",
    "    #if getCenterMassHeight(boxes) < 1000 and (perimeter_all(boxes) - perimeter_com_all(boxes)) > 50:\n",
    "        #return 1\n",
    "    #else: \n",
    "        #return 0\n",
    "    return getCenterMass(boxes)[2] + (perimeter_all(boxes) - perimeter_com_all(boxes))"
   ]
  },
  {
   "cell_type": "code",
   "execution_count": 574,
   "metadata": {
    "collapsed": false
   },
   "outputs": [
    {
     "name": "stdout",
     "output_type": "stream",
     "text": [
      "6795.23809524\n"
     ]
    }
   ],
   "source": [
    "print stability_coeff(boxes)"
   ]
  },
  {
   "cell_type": "code",
   "execution_count": null,
   "metadata": {
    "collapsed": true
   },
   "outputs": [],
   "source": []
  }
 ],
 "metadata": {
  "kernelspec": {
   "display_name": "Python 2",
   "language": "python",
   "name": "python2"
  },
  "language_info": {
   "codemirror_mode": {
    "name": "ipython",
    "version": 2
   },
   "file_extension": ".py",
   "mimetype": "text/x-python",
   "name": "python",
   "nbconvert_exporter": "python",
   "pygments_lexer": "ipython2",
   "version": "2.7.11"
  }
 },
 "nbformat": 4,
 "nbformat_minor": 0
}
