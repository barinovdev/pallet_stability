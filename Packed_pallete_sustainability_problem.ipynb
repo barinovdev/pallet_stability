{
 "cells": [
  {
   "cell_type": "markdown",
   "metadata": {},
   "source": [
    "# Packing stability problem"
   ]
  },
  {
   "cell_type": "code",
   "execution_count": 1,
   "metadata": {
    "collapsed": false
   },
   "outputs": [],
   "source": [
    "from pandas import DataFrame, read_csv\n",
    "import os\n",
    "from os import listdir\n",
    "from os.path import isfile, join\n",
    "import math\n",
    "import numpy as np\n",
    "import random\n",
    "import copy"
   ]
  },
  {
   "cell_type": "code",
   "execution_count": 16,
   "metadata": {
    "collapsed": false
   },
   "outputs": [
    {
     "data": {
      "text/plain": [
       "['0-out.csv',\n",
       " '1-out.csv',\n",
       " '2-out.csv',\n",
       " '3-out.csv',\n",
       " '4-out.csv',\n",
       " '5-out.csv',\n",
       " '6-out.csv',\n",
       " '7-out.csv',\n",
       " '8-out.csv',\n",
       " '9-out.csv']"
      ]
     },
     "execution_count": 16,
     "metadata": {},
     "output_type": "execute_result"
    }
   ],
   "source": [
    "file_list = [f for f in listdir(os.getcwd()) if isfile(f) and ('csv' in f)]\n",
    "file_list"
   ]
  },
  {
   "cell_type": "code",
   "execution_count": 18,
   "metadata": {
    "collapsed": false
   },
   "outputs": [
    {
     "data": {
      "text/html": [
       "<div>\n",
       "<table border=\"1\" class=\"dataframe\">\n",
       "  <thead>\n",
       "    <tr style=\"text-align: right;\">\n",
       "      <th></th>\n",
       "      <th>900001</th>\n",
       "      <th>0</th>\n",
       "      <th>0.1</th>\n",
       "      <th>0.2</th>\n",
       "      <th>600</th>\n",
       "      <th>400</th>\n",
       "      <th>200</th>\n",
       "      <th>1</th>\n",
       "      <th>12000</th>\n",
       "      <th>Unnamed: 9</th>\n",
       "    </tr>\n",
       "  </thead>\n",
       "  <tbody>\n",
       "    <tr>\n",
       "      <th>0</th>\n",
       "      <td>900001</td>\n",
       "      <td>0</td>\n",
       "      <td>400</td>\n",
       "      <td>0</td>\n",
       "      <td>600</td>\n",
       "      <td>800</td>\n",
       "      <td>200</td>\n",
       "      <td>1</td>\n",
       "      <td>12000</td>\n",
       "      <td>NaN</td>\n",
       "    </tr>\n",
       "    <tr>\n",
       "      <th>1</th>\n",
       "      <td>900001</td>\n",
       "      <td>600</td>\n",
       "      <td>0</td>\n",
       "      <td>0</td>\n",
       "      <td>1200</td>\n",
       "      <td>400</td>\n",
       "      <td>200</td>\n",
       "      <td>1</td>\n",
       "      <td>12000</td>\n",
       "      <td>NaN</td>\n",
       "    </tr>\n",
       "    <tr>\n",
       "      <th>2</th>\n",
       "      <td>900001</td>\n",
       "      <td>600</td>\n",
       "      <td>400</td>\n",
       "      <td>0</td>\n",
       "      <td>1200</td>\n",
       "      <td>800</td>\n",
       "      <td>200</td>\n",
       "      <td>1</td>\n",
       "      <td>12000</td>\n",
       "      <td>NaN</td>\n",
       "    </tr>\n",
       "    <tr>\n",
       "      <th>3</th>\n",
       "      <td>900001</td>\n",
       "      <td>0</td>\n",
       "      <td>0</td>\n",
       "      <td>200</td>\n",
       "      <td>600</td>\n",
       "      <td>400</td>\n",
       "      <td>400</td>\n",
       "      <td>1</td>\n",
       "      <td>12000</td>\n",
       "      <td>NaN</td>\n",
       "    </tr>\n",
       "    <tr>\n",
       "      <th>4</th>\n",
       "      <td>900001</td>\n",
       "      <td>0</td>\n",
       "      <td>400</td>\n",
       "      <td>200</td>\n",
       "      <td>600</td>\n",
       "      <td>800</td>\n",
       "      <td>400</td>\n",
       "      <td>1</td>\n",
       "      <td>12000</td>\n",
       "      <td>NaN</td>\n",
       "    </tr>\n",
       "  </tbody>\n",
       "</table>\n",
       "</div>"
      ],
      "text/plain": [
       "   900001    0   0.1   0.2   600   400   200   1   12000  Unnamed: 9\n",
       "0  900001    0   400     0   600   800   200   1   12000         NaN\n",
       "1  900001  600     0     0  1200   400   200   1   12000         NaN\n",
       "2  900001  600   400     0  1200   800   200   1   12000         NaN\n",
       "3  900001    0     0   200   600   400   400   1   12000         NaN\n",
       "4  900001    0   400   200   600   800   400   1   12000         NaN"
      ]
     },
     "execution_count": 18,
     "metadata": {},
     "output_type": "execute_result"
    }
   ],
   "source": [
    "def loadData(file_name):\n",
    "    data = read_csv(os.getcwd()+'/'+file_name, sep=',',header = 1,index_col=False)\n",
    "    return data\n",
    "file_name = '0-out.csv'\n",
    "data = loadData(file_name)\n",
    "data.head(5)"
   ]
  },
  {
   "cell_type": "code",
   "execution_count": null,
   "metadata": {
    "collapsed": true
   },
   "outputs": [],
   "source": [
    "class Box():\n",
    "    #конструктор создает коробку с SKU и начальными параметрами. Изначальная ротация = 3\n",
    "    def __init__(self, SKU, length, width, height, weight, strength, aisle, caustic):\n",
    "        self.SKU = SKU\n",
    "        self.size = np.array([length,width,height])\n",
    "        self.coords = self.size\n",
    "        self.rotation = 3\n",
    "        self.weight = weight\n",
    "        self.strength = strength\n",
    "        self.aisle = aisle\n",
    "        self.caustic = caustic\n",
    "        self.attPoint = np.array([-1,-1,-1])\n",
    "        self.farCorner = np.array([-1,-1,-1])\n",
    "        \n",
    "    #private функция возвращает матрицу поворота 1-6\n",
    "    def __getRotationMatrix(self, rotation):\n",
    "        if rotation == 1:\n",
    "            return np.array([[1,0,0],[0,0,1],[0,1,0]])\n",
    "        elif rotation == 2:\n",
    "            return np.array([[0,0,1],[1,0,0],[0,1,0]])\n",
    "        elif rotation == 3:\n",
    "            return np.array([[1,0,0],[0,1,0],[0,0,1]])\n",
    "        elif rotation == 4:\n",
    "            return np.array([[0,0,1],[0,1,0],[1,0,0]])\n",
    "        elif rotation == 5:\n",
    "            return np.array([[0,1,0],[1,0,0],[0,0,1]])\n",
    "        elif rotation == 6:\n",
    "            return np.array([[0,1,0],[0,0,1],[1,0,0]])\n",
    "    \n",
    "    #метод позволяющий повернуть коробку в положение 1-6 (3 положение по умолчанию)\n",
    "    def setRotation(self, rotation):\n",
    "        self.rotation = rotation\n",
    "        self.coords = np.dot(self.size, self.__getRotationMatrix(rotation))\n",
    "        self.farCorner = self.attPoint+self.coords\n",
    "    \n",
    "    #вернуть реальные координаты в свой СО\n",
    "    def getCoords(self):\n",
    "        return self.coords\n",
    "    \n",
    "    #вернуть SKU\n",
    "    def getSKU(self):\n",
    "        return self.SKU\n",
    "    \n",
    "    #вернуть длину (x по умолчанию)\n",
    "    def getLength(self):\n",
    "        return self.size[0]\n",
    "    \n",
    "    #вернуть ширину (y по умолчанию)\n",
    "    def getWidth(self):\n",
    "        return self.size[1]\n",
    "    \n",
    "    #вернуть высоту (z по умолчанию)\n",
    "    def getHeight(self):\n",
    "        return self.size[2]\n",
    "    \n",
    "    #вернуть свои исходные размеры\n",
    "    def getSize(self):\n",
    "        return list(self.size)\n",
    "    \n",
    "    #вернуть свое текущее положение\n",
    "    def getRotation(self):\n",
    "        return self.rotation\n",
    "    \n",
    "    def getWeigth(self):\n",
    "        return self.weight\n",
    "    \n",
    "    def getStrength(self):\n",
    "        return self.strength\n",
    "    \n",
    "    def getAisle(self):\n",
    "        return self.aisle\n",
    "    \n",
    "    def getCaustic(self):\n",
    "        return self.caustic\n",
    "    \n",
    "    def __repr__(self):\n",
    "        return 'Box(SKU=%s, rot=%s, coords=%s, attPoint=%s, farCorner=%s)' % (self.SKU, self.rotation, self.coords,self.attPoint, self.farCorner)\n",
    "    \n",
    "    def displace(self, dcoords):\n",
    "        self.attPoint = np.array(dcoords)\n",
    "        self.farCorner = self.attPoint+self.coords\n",
    "        \n",
    "    def getAttPoints(self):\n",
    "        p1 = self.attPoint+self.coords*[1,0,0]\n",
    "        p2 = self.attPoint+self.coords*[0,1,0]\n",
    "        p3 = self.attPoint+self.coords*[1,1,0]\n",
    "        p4 = self.attPoint+self.coords*[0,0,1]\n",
    "        x = list([list(p1),list(p2),list(p3),list(p4)])\n",
    "        return x\n",
    "    \n",
    "    def getAttPoint(self):\n",
    "        return list(self.attPoint)\n",
    "    \n",
    "    def getFarCorner(self):\n",
    "        return list(self.farCorner)\n",
    "    \n",
    "    def getBottomCenterMass(self):\n",
    "        return ((self.farCorner[0]+self.attPoint[0]) / 2.0 , (self.farCorner[1]+self.attPoint[1]) / 2.0, self.attPoint[2])\n",
    "    \n",
    "    def getMaxZ(self):\n",
    "        return self.farCorner[2]\n",
    "    \n",
    "    def getVolume(self):\n",
    "        return self.size[0]*self.size[1]*self.size[2]\n",
    "    \n",
    "    def getUpperPlane(self):\n",
    "        return ((self.attPoint[0],self.attPoint[1], self.farCorner[2]), (self.farCorner[0],self.farCorner[1], self.farCorner[2]))\n",
    "    \n",
    "    def getAnswer(self):\n",
    "        return [self.SKU, \n",
    "                self.attPoint[0], self.attPoint[1], self.attPoint[2], \n",
    "                self.farCorner[0], self.farCorner[1], self.farCorner[2],\n",
    "                self.aisle,\n",
    "                self.weight\n",
    "               ]\n",
    "    \n",
    "    def __eq__(self, other):\n",
    "        \"\"\"Override the default Equals behavior\"\"\"\n",
    "        if (self.getSKU() == other.getSKU() and\n",
    "           self.getRotation() == other.getRotation() and\n",
    "           self.getAttPoint() == other.getAttPoint() and\n",
    "           self.getSize() == other.getSize()):\n",
    "            return True\n",
    "        else:\n",
    "            return False\n",
    "    \n",
    "    def __ne__(self, other):\n",
    "        if  not (self.getSKU() == other.getSKU() and\n",
    "           self.getRotation() == other.getRotation() and\n",
    "           self.getAttPoint() == other.getAttPoint() and\n",
    "           self.getSize() == other.getSize()):\n",
    "            return True\n",
    "        else:\n",
    "            return False\n",
    "    \n",
    "    def getPerimeter(self):\n",
    "        return self.getLength() * 2 + self.getWidth() * 2"
   ]
  },
  {
   "cell_type": "code",
   "execution_count": null,
   "metadata": {
    "collapsed": true
   },
   "outputs": [],
   "source": [
    "def getCenterMassHeight(boxes):\n",
    "    for i in range(1, len(boxes)):\n",
    "        mass_total += boxes[i].getWeight()\n",
    "        x_total += boxes[i].getLength() * boxes[i].getWeight()\n",
    "        y_total += boxes[i].getWidth() * boxes[i].getWeight()\n",
    "        z_total += boxes[i].getHeight() * boxes[i].getWeight()\n",
    "    centerMass = (x_total / mass_total, y_total / mass_total, z_total / mass_total)\n",
    "    return z_total / mass_total"
   ]
  },
  {
   "cell_type": "code",
   "execution_count": null,
   "metadata": {
    "collapsed": true
   },
   "outputs": [],
   "source": [
    "def perimeter_all(boxes):\n",
    "    for i in range(1, len(boxes)):\n",
    "        perimeter_all += boxes[i].getPerimeter()"
   ]
  },
  {
   "cell_type": "code",
   "execution_count": null,
   "metadata": {
    "collapsed": true
   },
   "outputs": [],
   "source": [
    "def perimeter_common(box1,box2):\n",
    "    def getOverlap(a, b):\n",
    "            return max(0, min(a[1], b[1]) - max(a[0], b[0]))\n",
    "\n",
    "        def line_x(box1,box2):\n",
    "            l_x_1 = (box1.attPoint[0], box1.farCorner[0])\n",
    "            l_x_2 = (box2.attPoint[0], box2.farCorner[0])\n",
    "            return getOverlap(l_x_1, l_x_2)\n",
    "\n",
    "        def line_xy(box1,box2):\n",
    "            l_x_1 = (box1.attPoint[0], box1.farCorner[0])\n",
    "            l_x_2 = (box2.attPoint[0], box2.farCorner[0])\n",
    "            l_y_1 = (box1.attPoint[1], box1.farCorner[1])\n",
    "            l_y_2 = (box2.attPoint[1], box2.farCorner[1])\n",
    "            return getOverlap(l_x_1, l_x_2) + getOverlap(l_y_1, l_y_2)\n",
    "\n",
    "        def line_y(b1,b2):\n",
    "            l_y_1 = (box1.attPoint[1], box1.farCorner[1])\n",
    "            l_y_2 = (box2.attPoint[1], box2.farCorner[1])\n",
    "            return getOverlap(l_y_1, l_y_2)\n",
    "    return line_x(b1,b2) + line_y(b1,b2) + line_xy(b1,b2)"
   ]
  },
  {
   "cell_type": "code",
   "execution_count": 19,
   "metadata": {
    "collapsed": false
   },
   "outputs": [
    {
     "ename": "SyntaxError",
     "evalue": "invalid syntax (<ipython-input-19-38fa4e8921d4>, line 2)",
     "output_type": "error",
     "traceback": [
      "\u001b[0;36m  File \u001b[0;32m\"<ipython-input-19-38fa4e8921d4>\"\u001b[0;36m, line \u001b[0;32m2\u001b[0m\n\u001b[0;31m    if короче CenterMassHeight < (условно) 50\u001b[0m\n\u001b[0m       ^\u001b[0m\n\u001b[0;31mSyntaxError\u001b[0m\u001b[0;31m:\u001b[0m invalid syntax\n"
     ]
    }
   ],
   "source": [
    "def stability_coeff():\n",
    "    короче if CenterMassHeight < (условно) 50:\n",
    "        elif  perimeter_all - perimeter_common > (условно) 50:\n",
    "            return заебись (1)\n",
    "        else return ооо всё упадёт, аккуратней\n"
   ]
  },
  {
   "cell_type": "code",
   "execution_count": null,
   "metadata": {
    "collapsed": true
   },
   "outputs": [],
   "source": []
  }
 ],
 "metadata": {
  "kernelspec": {
   "display_name": "Python 2",
   "language": "python",
   "name": "python2"
  },
  "language_info": {
   "codemirror_mode": {
    "name": "ipython",
    "version": 2
   },
   "file_extension": ".py",
   "mimetype": "text/x-python",
   "name": "python",
   "nbconvert_exporter": "python",
   "pygments_lexer": "ipython2",
   "version": "2.7.11"
  }
 },
 "nbformat": 4,
 "nbformat_minor": 0
}
