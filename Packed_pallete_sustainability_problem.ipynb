{
 "cells": [
  {
   "cell_type": "markdown",
   "metadata": {},
   "source": [
    "# Packing stability problem"
   ]
  },
  {
   "cell_type": "code",
   "execution_count": 2,
   "metadata": {
    "collapsed": false
   },
   "outputs": [],
   "source": [
    "from pandas import DataFrame, read_csv\n",
    "import os\n",
    "from os import listdir\n",
    "from os.path import isfile, join\n",
    "import math\n",
    "import numpy as np\n",
    "import random\n",
    "import copy"
   ]
  },
  {
   "cell_type": "code",
   "execution_count": 3,
   "metadata": {
    "collapsed": false
   },
   "outputs": [
    {
     "data": {
      "text/plain": [
       "['0-out.csv',\n",
       " '1-out.csv',\n",
       " '2-out.csv',\n",
       " '3-out.csv',\n",
       " '4-out.csv',\n",
       " '5-out.csv',\n",
       " '6-out.csv',\n",
       " '7-out.csv',\n",
       " '8-out.csv',\n",
       " '9-out.csv',\n",
       " 'out_02_01.csv',\n",
       " 'out_02_02.csv',\n",
       " 'out_02_03.csv',\n",
       " 'out_02_04.csv',\n",
       " 'out_02_05.csv',\n",
       " 'out_02_06.csv',\n",
       " 'out_02_07.csv',\n",
       " 'out_02_08.csv',\n",
       " 'out_02_09.csv',\n",
       " 'out_02_10.csv']"
      ]
     },
     "execution_count": 3,
     "metadata": {},
     "output_type": "execute_result"
    }
   ],
   "source": [
    "file_list = [f for f in listdir(os.getcwd()) if isfile(f) and ('csv' in f)]\n",
    "file_list"
   ]
  },
  {
   "cell_type": "code",
   "execution_count": 6,
   "metadata": {
    "collapsed": false
   },
   "outputs": [
    {
     "data": {
      "text/html": [
       "<div>\n",
       "<table border=\"1\" class=\"dataframe\">\n",
       "  <thead>\n",
       "    <tr style=\"text-align: right;\">\n",
       "      <th></th>\n",
       "      <th>SKU</th>\n",
       "      <th>X1</th>\n",
       "      <th>Y1</th>\n",
       "      <th>Z1</th>\n",
       "      <th>X2</th>\n",
       "      <th>Y2</th>\n",
       "      <th>Z2</th>\n",
       "      <th>Aisle</th>\n",
       "      <th>Weight</th>\n",
       "    </tr>\n",
       "  </thead>\n",
       "  <tbody>\n",
       "    <tr>\n",
       "      <th>0</th>\n",
       "      <td>900001</td>\n",
       "      <td>0</td>\n",
       "      <td>0</td>\n",
       "      <td>0</td>\n",
       "      <td>600</td>\n",
       "      <td>400</td>\n",
       "      <td>200</td>\n",
       "      <td>1</td>\n",
       "      <td>12000</td>\n",
       "    </tr>\n",
       "    <tr>\n",
       "      <th>1</th>\n",
       "      <td>900001</td>\n",
       "      <td>0</td>\n",
       "      <td>400</td>\n",
       "      <td>0</td>\n",
       "      <td>600</td>\n",
       "      <td>800</td>\n",
       "      <td>200</td>\n",
       "      <td>1</td>\n",
       "      <td>12000</td>\n",
       "    </tr>\n",
       "    <tr>\n",
       "      <th>2</th>\n",
       "      <td>900001</td>\n",
       "      <td>600</td>\n",
       "      <td>0</td>\n",
       "      <td>0</td>\n",
       "      <td>1200</td>\n",
       "      <td>400</td>\n",
       "      <td>200</td>\n",
       "      <td>1</td>\n",
       "      <td>12000</td>\n",
       "    </tr>\n",
       "    <tr>\n",
       "      <th>3</th>\n",
       "      <td>900001</td>\n",
       "      <td>600</td>\n",
       "      <td>400</td>\n",
       "      <td>0</td>\n",
       "      <td>1200</td>\n",
       "      <td>800</td>\n",
       "      <td>200</td>\n",
       "      <td>1</td>\n",
       "      <td>12000</td>\n",
       "    </tr>\n",
       "    <tr>\n",
       "      <th>4</th>\n",
       "      <td>900001</td>\n",
       "      <td>0</td>\n",
       "      <td>0</td>\n",
       "      <td>200</td>\n",
       "      <td>600</td>\n",
       "      <td>400</td>\n",
       "      <td>400</td>\n",
       "      <td>1</td>\n",
       "      <td>12000</td>\n",
       "    </tr>\n",
       "    <tr>\n",
       "      <th>5</th>\n",
       "      <td>900001</td>\n",
       "      <td>0</td>\n",
       "      <td>400</td>\n",
       "      <td>200</td>\n",
       "      <td>600</td>\n",
       "      <td>800</td>\n",
       "      <td>400</td>\n",
       "      <td>1</td>\n",
       "      <td>12000</td>\n",
       "    </tr>\n",
       "    <tr>\n",
       "      <th>6</th>\n",
       "      <td>900001</td>\n",
       "      <td>600</td>\n",
       "      <td>0</td>\n",
       "      <td>200</td>\n",
       "      <td>1200</td>\n",
       "      <td>400</td>\n",
       "      <td>400</td>\n",
       "      <td>1</td>\n",
       "      <td>12000</td>\n",
       "    </tr>\n",
       "    <tr>\n",
       "      <th>7</th>\n",
       "      <td>900001</td>\n",
       "      <td>600</td>\n",
       "      <td>400</td>\n",
       "      <td>200</td>\n",
       "      <td>1200</td>\n",
       "      <td>800</td>\n",
       "      <td>400</td>\n",
       "      <td>1</td>\n",
       "      <td>12000</td>\n",
       "    </tr>\n",
       "    <tr>\n",
       "      <th>8</th>\n",
       "      <td>900001</td>\n",
       "      <td>0</td>\n",
       "      <td>0</td>\n",
       "      <td>400</td>\n",
       "      <td>600</td>\n",
       "      <td>400</td>\n",
       "      <td>600</td>\n",
       "      <td>1</td>\n",
       "      <td>12000</td>\n",
       "    </tr>\n",
       "    <tr>\n",
       "      <th>9</th>\n",
       "      <td>900001</td>\n",
       "      <td>0</td>\n",
       "      <td>400</td>\n",
       "      <td>400</td>\n",
       "      <td>600</td>\n",
       "      <td>800</td>\n",
       "      <td>600</td>\n",
       "      <td>1</td>\n",
       "      <td>12000</td>\n",
       "    </tr>\n",
       "    <tr>\n",
       "      <th>10</th>\n",
       "      <td>900001</td>\n",
       "      <td>600</td>\n",
       "      <td>0</td>\n",
       "      <td>400</td>\n",
       "      <td>1200</td>\n",
       "      <td>400</td>\n",
       "      <td>600</td>\n",
       "      <td>1</td>\n",
       "      <td>12000</td>\n",
       "    </tr>\n",
       "    <tr>\n",
       "      <th>11</th>\n",
       "      <td>900001</td>\n",
       "      <td>600</td>\n",
       "      <td>400</td>\n",
       "      <td>400</td>\n",
       "      <td>1200</td>\n",
       "      <td>800</td>\n",
       "      <td>600</td>\n",
       "      <td>1</td>\n",
       "      <td>12000</td>\n",
       "    </tr>\n",
       "    <tr>\n",
       "      <th>12</th>\n",
       "      <td>900002</td>\n",
       "      <td>0</td>\n",
       "      <td>0</td>\n",
       "      <td>600</td>\n",
       "      <td>400</td>\n",
       "      <td>200</td>\n",
       "      <td>800</td>\n",
       "      <td>2</td>\n",
       "      <td>5000</td>\n",
       "    </tr>\n",
       "    <tr>\n",
       "      <th>13</th>\n",
       "      <td>900002</td>\n",
       "      <td>0</td>\n",
       "      <td>200</td>\n",
       "      <td>600</td>\n",
       "      <td>400</td>\n",
       "      <td>400</td>\n",
       "      <td>800</td>\n",
       "      <td>2</td>\n",
       "      <td>5000</td>\n",
       "    </tr>\n",
       "    <tr>\n",
       "      <th>14</th>\n",
       "      <td>900002</td>\n",
       "      <td>400</td>\n",
       "      <td>0</td>\n",
       "      <td>600</td>\n",
       "      <td>800</td>\n",
       "      <td>200</td>\n",
       "      <td>800</td>\n",
       "      <td>2</td>\n",
       "      <td>5000</td>\n",
       "    </tr>\n",
       "    <tr>\n",
       "      <th>15</th>\n",
       "      <td>900002</td>\n",
       "      <td>0</td>\n",
       "      <td>400</td>\n",
       "      <td>600</td>\n",
       "      <td>400</td>\n",
       "      <td>600</td>\n",
       "      <td>800</td>\n",
       "      <td>2</td>\n",
       "      <td>5000</td>\n",
       "    </tr>\n",
       "    <tr>\n",
       "      <th>16</th>\n",
       "      <td>900002</td>\n",
       "      <td>400</td>\n",
       "      <td>200</td>\n",
       "      <td>600</td>\n",
       "      <td>800</td>\n",
       "      <td>400</td>\n",
       "      <td>800</td>\n",
       "      <td>2</td>\n",
       "      <td>5000</td>\n",
       "    </tr>\n",
       "    <tr>\n",
       "      <th>17</th>\n",
       "      <td>900002</td>\n",
       "      <td>0</td>\n",
       "      <td>600</td>\n",
       "      <td>600</td>\n",
       "      <td>400</td>\n",
       "      <td>800</td>\n",
       "      <td>800</td>\n",
       "      <td>2</td>\n",
       "      <td>5000</td>\n",
       "    </tr>\n",
       "    <tr>\n",
       "      <th>18</th>\n",
       "      <td>900002</td>\n",
       "      <td>400</td>\n",
       "      <td>400</td>\n",
       "      <td>600</td>\n",
       "      <td>800</td>\n",
       "      <td>600</td>\n",
       "      <td>800</td>\n",
       "      <td>2</td>\n",
       "      <td>5000</td>\n",
       "    </tr>\n",
       "    <tr>\n",
       "      <th>19</th>\n",
       "      <td>900002</td>\n",
       "      <td>400</td>\n",
       "      <td>600</td>\n",
       "      <td>600</td>\n",
       "      <td>800</td>\n",
       "      <td>800</td>\n",
       "      <td>800</td>\n",
       "      <td>2</td>\n",
       "      <td>5000</td>\n",
       "    </tr>\n",
       "    <tr>\n",
       "      <th>20</th>\n",
       "      <td>900002</td>\n",
       "      <td>800</td>\n",
       "      <td>0</td>\n",
       "      <td>600</td>\n",
       "      <td>1200</td>\n",
       "      <td>200</td>\n",
       "      <td>800</td>\n",
       "      <td>2</td>\n",
       "      <td>5000</td>\n",
       "    </tr>\n",
       "    <tr>\n",
       "      <th>21</th>\n",
       "      <td>900002</td>\n",
       "      <td>800</td>\n",
       "      <td>200</td>\n",
       "      <td>600</td>\n",
       "      <td>1200</td>\n",
       "      <td>400</td>\n",
       "      <td>800</td>\n",
       "      <td>2</td>\n",
       "      <td>5000</td>\n",
       "    </tr>\n",
       "  </tbody>\n",
       "</table>\n",
       "</div>"
      ],
      "text/plain": [
       "       SKU   X1   Y1   Z1    X2   Y2   Z2  Aisle  Weight\n",
       "0   900001    0    0    0   600  400  200      1   12000\n",
       "1   900001    0  400    0   600  800  200      1   12000\n",
       "2   900001  600    0    0  1200  400  200      1   12000\n",
       "3   900001  600  400    0  1200  800  200      1   12000\n",
       "4   900001    0    0  200   600  400  400      1   12000\n",
       "5   900001    0  400  200   600  800  400      1   12000\n",
       "6   900001  600    0  200  1200  400  400      1   12000\n",
       "7   900001  600  400  200  1200  800  400      1   12000\n",
       "8   900001    0    0  400   600  400  600      1   12000\n",
       "9   900001    0  400  400   600  800  600      1   12000\n",
       "10  900001  600    0  400  1200  400  600      1   12000\n",
       "11  900001  600  400  400  1200  800  600      1   12000\n",
       "12  900002    0    0  600   400  200  800      2    5000\n",
       "13  900002    0  200  600   400  400  800      2    5000\n",
       "14  900002  400    0  600   800  200  800      2    5000\n",
       "15  900002    0  400  600   400  600  800      2    5000\n",
       "16  900002  400  200  600   800  400  800      2    5000\n",
       "17  900002    0  600  600   400  800  800      2    5000\n",
       "18  900002  400  400  600   800  600  800      2    5000\n",
       "19  900002  400  600  600   800  800  800      2    5000\n",
       "20  900002  800    0  600  1200  200  800      2    5000\n",
       "21  900002  800  200  600  1200  400  800      2    5000"
      ]
     },
     "execution_count": 6,
     "metadata": {},
     "output_type": "execute_result"
    }
   ],
   "source": [
    "def loadData(file_name):\n",
    "    if file_name == '0-out.csv' or file_name == '5-out.csv' or file_name == '6-out.csv' or file_name == '7-out.csv' or file_name == '8-out.csv' or file_name == '9-out.csv':\n",
    "        data = read_csv(os.getcwd()+'/'+ file_name, sep=',', index_col=False, skiprows = 1, names=['SKU', 'X1', 'Y1', 'Z1', 'X2', 'Y2', 'Z2', 'Aisle', 'Weight'])\n",
    "    else:\n",
    "        data = read_csv(os.getcwd()+'/'+ file_name, sep=',', index_col=False, skiprows = 2, names=['SKU', 'X1', 'Y1', 'Z1', 'X2', 'Y2', 'Z2', 'Aisle', 'Weight'])\n",
    "    return data\n",
    "\n",
    "filename = []\n",
    "for each in file_list:\n",
    "    filename.append(each)\n",
    "datas = []\n",
    "for each in filename:\n",
    "    datas.append(loadData(each))\n",
    "datas[0].head(0)"
   ]
  },
  {
   "cell_type": "code",
   "execution_count": 7,
   "metadata": {
    "collapsed": false
   },
   "outputs": [],
   "source": [
    "class box():\n",
    "    def __init__(self, SKU, x_1, y_1, z_1, x_2, y_2, z_2, weight):\n",
    "        self.SKU = SKU\n",
    "        self.size = [x_2 - x_1, y_2 - y_1, z_2 - z_1]\n",
    "        #self.coords = self.size\n",
    "        #self.rotation = 3\n",
    "        self.weight = weight\n",
    "        self.attPoint = [x_1, y_1, z_1]\n",
    "        self.farCorner = [x_2, y_2, z_2]\n",
    "    \n",
    "    #вернуть SKU\n",
    "    def getSKU(self):\n",
    "        return self.SKU\n",
    "\n",
    "    #вернуть длину (x по умолчанию)\n",
    "    def getLength(self):\n",
    "        return self.size[0]\n",
    "\n",
    "    #вернуть ширину (y по умолчанию)\n",
    "    def getWidth(self):\n",
    "        return self.size[1]\n",
    "\n",
    "    #вернуть высоту (z по умолчанию)\n",
    "    def getHeight(self):\n",
    "        return self.size[2]\n",
    "    \n",
    "    #вернуть периметр основания коробки\n",
    "    def getPerimeter(self):\n",
    "        return self.size[0] * 2 + self.size[1] * 2\n",
    "\n",
    "    #вернуть свои исходные размеры\n",
    "    def getSize(self):\n",
    "        return list(self.size)\n",
    "\n",
    "    #вернуть вес\n",
    "    def getWeight(self):\n",
    "        return self.weight\n",
    "\n",
    "    def __repr__(self):\n",
    "        return 'Box(SKU=%s, attPoint=%s, farCorner=%s, weight = %s)' % (self.SKU,self.attPoint, self.farCorner, self.weight)\n",
    "\n",
    "    def getAttPoint(self):\n",
    "        return list(self.attPoint)\n",
    "\n",
    "    def getFarCorner(self):\n",
    "        return list(self.farCorner)\n",
    "\n",
    "    def getCenterMassX(self):\n",
    "        return ((self.farCorner[0]+self.attPoint[0]) / 2.0)\n",
    "    \n",
    "    def getCenterMassY(self):\n",
    "        return ((self.farCorner[1]+self.attPoint[1]) / 2.0)\n",
    "    \n",
    "    def getCenterMassZ(self):\n",
    "        return ((self.farCorner[2]+self.attPoint[2]) / 2.0)\n",
    "        \n",
    "    def getUpperPlane(self):\n",
    "        return ((self.attPoint[0],self.attPoint[1], self.farCorner[2]), (self.farCorner[0],self.farCorner[1], self.farCorner[2]))\n",
    "\n",
    "    def __eq__(self, other):\n",
    "        if (self.getSKU() == other.getSKU() and self.getFarCorner() == other.getFarCorner() \n",
    "                 and self.attPoint() == other.attPoint()):\n",
    "            return True\n",
    "        else:\n",
    "            return False\n",
    "\n",
    "    def __ne__(self, other):\n",
    "        if  not (self.farCorner[0] == other.farCorner[0] and \n",
    "                 self.farCorner[1] == other.farCorner[1] and \n",
    "                 self.farCorner[2] == other.farCorner[2]and \n",
    "                 self.attPoint[0] == other.attPoint[0] and \n",
    "                 self.attPoint[1] == other.attPoint[1] and \n",
    "                 self.attPoint[2] == other.attPoint[2]):\n",
    "            return True\n",
    "        else:\n",
    "            return False"
   ]
  },
  {
   "cell_type": "code",
   "execution_count": 8,
   "metadata": {
    "collapsed": false
   },
   "outputs": [
    {
     "data": {
      "text/plain": [
       "20"
      ]
     },
     "execution_count": 8,
     "metadata": {},
     "output_type": "execute_result"
    }
   ],
   "source": [
    "len(datas)"
   ]
  },
  {
   "cell_type": "code",
   "execution_count": 10,
   "metadata": {
    "collapsed": false
   },
   "outputs": [
    {
     "data": {
      "text/plain": [
       "[Box(SKU=790145, attPoint=[0, 0, 0], farCorner=[391, 600, 211], weight = 10727),\n",
       " Box(SKU=756584, attPoint=[0, 0, 211], farCorner=[504, 302, 509], weight = 6140),\n",
       " Box(SKU=799901, attPoint=[0, 302, 211], farCorner=[508, 608, 409], weight = 8313),\n",
       " Box(SKU=747092, attPoint=[391, 0, 0], farCorner=[897, 304, 200], weight = 8260),\n",
       " Box(SKU=768211, attPoint=[391, 304, 0], farCorner=[891, 607, 198], weight = 8313),\n",
       " Box(SKU=752322, attPoint=[0, 302, 409], farCorner=[423, 612, 617], weight = 9640),\n",
       " Box(SKU=760194, attPoint=[0, 0, 509], farCorner=[505, 243, 710], weight = 6900),\n",
       " Box(SKU=769016, attPoint=[423, 302, 409], farCorner=[682, 647, 646], weight = 16247),\n",
       " Box(SKU=701728, attPoint=[0, 302, 617], farCorner=[207, 501, 1124], weight = 6280),\n",
       " Box(SKU=747085, attPoint=[0, 0, 710], farCorner=[506, 202, 909], weight = 8060),\n",
       " Box(SKU=779666, attPoint=[207, 302, 617], farCorner=[414, 681, 872], weight = 3680),\n",
       " Box(SKU=705053, attPoint=[0, 501, 617], farCorner=[183, 715, 1115], weight = 7087),\n",
       " Box(SKU=708255, attPoint=[423, 302, 646], farCorner=[658, 721, 840], weight = 6200),\n",
       " Box(SKU=763098, attPoint=[897, 0, 0], farCorner=[1125, 316, 225], weight = 12020),\n",
       " Box(SKU=600591, attPoint=[0, 0, 909], farCorner=[463, 115, 1212], weight = 12340),\n",
       " Box(SKU=704016, attPoint=[897, 0, 225], farCorner=[1128, 306, 450], weight = 11713),\n",
       " Box(SKU=704798, attPoint=[0, 600, 0], farCorner=[391, 796, 207], weight = 2480),\n",
       " Box(SKU=765043, attPoint=[207, 302, 872], farCorner=[440, 660, 1061], weight = 11160),\n",
       " Box(SKU=736957, attPoint=[897, 316, 0], farCorner=[1098, 708, 200], weight = 2180),\n",
       " Box(SKU=723023, attPoint=[0, 115, 909], farCorner=[418, 237, 1218], weight = 11267),\n",
       " Box(SKU=736961, attPoint=[658, 302, 646], farCorner=[861, 696, 840], weight = 2193),\n",
       " Box(SKU=739528, attPoint=[897, 316, 200], farCorner=[1106, 689, 399], weight = 11660),\n",
       " Box(SKU=767325, attPoint=[897, 0, 450], farCorner=[1019, 413, 757], weight = 11320),\n",
       " Box(SKU=761795, attPoint=[418, 115, 909], farCorner=[844, 242, 1192], weight = 2973),\n",
       " Box(SKU=778781, attPoint=[658, 302, 840], farCorner=[979, 543, 1036], weight = 11560),\n",
       " Box(SKU=705911, attPoint=[1019, 0, 450], farCorner=[1192, 293, 735], weight = 9853),\n",
       " Box(SKU=704044, attPoint=[207, 302, 1061], farCorner=[497, 590, 1233], weight = 9793),\n",
       " Box(SKU=705218, attPoint=[1019, 293, 450], farCorner=[1168, 641, 709], weight = 9953),\n",
       " Box(SKU=743521, attPoint=[463, 0, 909], farCorner=[868, 114, 1172], weight = 2280),\n",
       " Box(SKU=708212, attPoint=[391, 607, 0], farCorner=[699, 799, 205], weight = 2040),\n",
       " Box(SKU=764643, attPoint=[0, 302, 1124], farCorner=[206, 610, 1314], weight = 2540),\n",
       " Box(SKU=704584, attPoint=[897, 0, 757], farCorner=[1089, 205, 1063], weight = 1860),\n",
       " Box(SKU=739139, attPoint=[207, 660, 872], farCorner=[626, 765, 1145], weight = 8507),\n",
       " Box(SKU=762068, attPoint=[658, 543, 840], farCorner=[979, 789, 986], weight = 8900),\n",
       " Box(SKU=740751, attPoint=[0, 115, 1218], farCorner=[311, 283, 1436], weight = 8760),\n",
       " Box(SKU=733187, attPoint=[311, 115, 1218], farCorner=[617, 280, 1442], weight = 8740),\n",
       " Box(SKU=760804, attPoint=[658, 302, 1036], farCorner=[999, 531, 1178], weight = 3740),\n",
       " Box(SKU=733179, attPoint=[1019, 293, 709], farCorner=[1186, 594, 929], weight = 12280),\n",
       " Box(SKU=797502, attPoint=[0, 0, 1212], farCorner=[350, 115, 1474], weight = 7320),\n",
       " Box(SKU=794918, attPoint=[207, 302, 1233], farCorner=[556, 562, 1349], weight = 8133),\n",
       " Box(SKU=736946, attPoint=[699, 607, 0], farCorner=[837, 795, 402], weight = 3180),\n",
       " Box(SKU=705430, attPoint=[463, 0, 1172], farCorner=[811, 115, 1431], weight = 7387),\n",
       " Box(SKU=769175, attPoint=[658, 543, 986], farCorner=[1007, 657, 1246], weight = 7460),\n",
       " Box(SKU=765846, attPoint=[897, 689, 200], farCorner=[1159, 797, 549], weight = 6913),\n",
       " Box(SKU=743805, attPoint=[207, 660, 1145], farCorner=[611, 790, 1331], weight = 3340),\n",
       " Box(SKU=770973, attPoint=[0, 302, 1314], farCorner=[177, 639, 1477], weight = 6400),\n",
       " Box(SKU=784268, attPoint=[897, 205, 757], farCorner=[1187, 289, 1155], weight = 900),\n",
       " Box(SKU=761453, attPoint=[658, 657, 986], farCorner=[1004, 761, 1247], weight = 3313),\n",
       " Box(SKU=779160, attPoint=[617, 115, 1218], farCorner=[907, 514, 1299], weight = 880),\n",
       " Box(SKU=741173, attPoint=[207, 302, 1349], farCorner=[419, 547, 1529], weight = 6620),\n",
       " Box(SKU=769982, attPoint=[1019, 594, 709], farCorner=[1171, 782, 1031], weight = 5940),\n",
       " Box(SKU=772900, attPoint=[897, 0, 1063], farCorner=[1148, 110, 1394], weight = 3387),\n",
       " Box(SKU=737101, attPoint=[207, 590, 1061], farCorner=[510, 655, 1521], weight = 6847),\n",
       " Box(SKU=723266, attPoint=[1019, 293, 929], farCorner=[1187, 461, 1234], weight = 2600),\n",
       " Box(SKU=724282, attPoint=[0, 115, 1436], farCorner=[233, 231, 1748], weight = 6120),\n",
       " Box(SKU=710303, attPoint=[617, 115, 1299], farCorner=[926, 344, 1417], weight = 5833),\n",
       " Box(SKU=767728, attPoint=[419, 302, 1349], farCorner=[535, 532, 1659], weight = 5900),\n",
       " Box(SKU=785224, attPoint=[617, 344, 1299], farCorner=[846, 655, 1415], weight = 5860),\n",
       " Box(SKU=767742, attPoint=[311, 115, 1442], farCorner=[619, 232, 1670], weight = 5953),\n",
       " Box(SKU=790528, attPoint=[207, 660, 1331], farCorner=[513, 776, 1562], weight = 5820),\n",
       " Box(SKU=724174, attPoint=[0, 0, 1474], farCorner=[310, 115, 1704], weight = 5960),\n",
       " Box(SKU=767737, attPoint=[0, 302, 1477], farCorner=[116, 610, 1705], weight = 5900),\n",
       " Box(SKU=774964, attPoint=[658, 657, 1247], farCorner=[963, 774, 1475], weight = 5900),\n",
       " Box(SKU=767735, attPoint=[463, 0, 1431], farCorner=[772, 115, 1659], weight = 6007),\n",
       " Box(SKU=723041, attPoint=[207, 302, 1529], farCorner=[321, 609, 1760], weight = 6340),\n",
       " Box(SKU=787738, attPoint=[116, 302, 1477], farCorner=[204, 656, 1736], weight = 6247),\n",
       " Box(SKU=720600, attPoint=[619, 115, 1442], farCorner=[927, 342, 1557], weight = 6007),\n",
       " Box(SKU=790202, attPoint=[617, 344, 1415], farCorner=[847, 650, 1529], weight = 6040),\n",
       " Box(SKU=753143, attPoint=[846, 344, 1299], farCorner=[1149, 574, 1414], weight = 5960),\n",
       " Box(SKU=761233, attPoint=[772, 0, 1431], farCorner=[1076, 114, 1660], weight = 5810),\n",
       " Box(SKU=755086, attPoint=[619, 115, 1557], farCorner=[846, 422, 1670], weight = 5740),\n",
       " Box(SKU=787732, attPoint=[321, 302, 1529], farCorner=[407, 654, 1789], weight = 6307),\n",
       " Box(SKU=763560, attPoint=[1019, 594, 1031], farCorner=[1199, 735, 1339], weight = 6240),\n",
       " Box(SKU=763562, attPoint=[847, 344, 1415], farCorner=[1027, 649, 1557], weight = 6227),\n",
       " Box(SKU=785166, attPoint=[311, 115, 1670], farCorner=[624, 228, 1877], weight = 5187),\n",
       " Box(SKU=703671, attPoint=[1019, 461, 929], farCorner=[1194, 593, 1235], weight = 2480),\n",
       " Box(SKU=708260, attPoint=[207, 660, 1562], farCorner=[510, 794, 1735], weight = 2620),\n",
       " Box(SKU=708263, attPoint=[419, 302, 1659], farCorner=[592, 607, 1791], weight = 2733),\n",
       " Box(SKU=746559, attPoint=[0, 115, 1748], farCorner=[173, 367, 1893], weight = 2200),\n",
       " Box(SKU=794348, attPoint=[0, 0, 1704], farCorner=[281, 105, 1912], weight = 4060),\n",
       " Box(SKU=738766, attPoint=[463, 0, 1659], farCorner=[745, 103, 1863], weight = 4220),\n",
       " Box(SKU=746239, attPoint=[658, 657, 1475], farCorner=[932, 761, 1677], weight = 4200),\n",
       " Box(SKU=769440, attPoint=[1106, 316, 200], farCorner=[1195, 608, 412], weight = 1740),\n",
       " Box(SKU=714006, attPoint=[699, 607, 402], farCorner=[891, 742, 604], weight = 2000),\n",
       " Box(SKU=731307, attPoint=[846, 115, 1557], farCorner=[993, 360, 1698], weight = 1760),\n",
       " Box(SKU=707700, attPoint=[0, 610, 1477], farCorner=[112, 796, 1681], weight = 1933)]"
      ]
     },
     "execution_count": 10,
     "metadata": {},
     "output_type": "execute_result"
    }
   ],
   "source": [
    "palletes = []\n",
    "for j in range(0, len(datas)):\n",
    "    boxes = []\n",
    "    #for i in range(0, len(datas[0])):\n",
    "    for i in range(0, len(datas[j])):\n",
    "        #print data['SKU'][i], data['X1'][i], data['Y1'][i], data['Z1'][i], data['X2'][i], data['Y2'][i], data['Z2'][i], data['Weight'][i]\n",
    "        boxes.append(box(datas[j]['SKU'][i], datas[j]['X1'][i], datas[j]['Y1'][i], datas[j]['Z1'][i], datas[j]['X2'][i], datas[j]['Y2'][i], datas[j]['Z2'][i], datas[j]['Weight'][i]))\n",
    "    palletes.append(boxes)\n",
    "palletes[15]"
   ]
  },
  {
   "cell_type": "code",
   "execution_count": 11,
   "metadata": {
    "collapsed": false
   },
   "outputs": [],
   "source": [
    "boxess = []\n",
    "b1 = box(1, 0,0,0,10,10,10, 100)\n",
    "b2 = box(1, 10,0,0,20,10,10, 100)\n",
    "boxess.append(b1)\n",
    "boxess.append(b2)"
   ]
  },
  {
   "cell_type": "code",
   "execution_count": 12,
   "metadata": {
    "collapsed": false
   },
   "outputs": [],
   "source": [
    "def getCenterMass(boxes):\n",
    "    #x_total = boxes[0].getCenterMassX()\n",
    "    #y_total = boxes[0].getCenterMassY()\n",
    "    #z_total = boxes[0].getCenterMassZ()\n",
    "    weight_total = 0\n",
    "    sum_r_x = 0\n",
    "    sum_r_y = 0\n",
    "    sum_r_z = 0\n",
    "    \n",
    "    for each in boxes:\n",
    "        sum_r_x += each.getCenterMassX() * each.getWeight()\n",
    "        sum_r_y += each.getCenterMassY() * each.getWeight()\n",
    "        sum_r_z += each.getCenterMassZ() * each.getWeight()\n",
    "        #x_total = (each.getCenterMassX() * each.getWeight() + x_total * weight_total) / (weight_total + each.getWeight())\n",
    "        #y_total = (each.getCenterMassY() * each.getWeight() + y_total * weight_total) / (weight_total + each.getWeight())\n",
    "        #z_total = (each.getCenterMassZ() * each.getWeight() + x_total * weight_total) / (weight_total + each.getWeight())\n",
    "        weight_total += each.getWeight()\n",
    "    \n",
    "    cm_x = round(sum_r_x / weight_total, 2)\n",
    "    cm_y = round(sum_r_y / weight_total, 2)\n",
    "    cm_z = round(sum_r_z / weight_total, 2)\n",
    "    \n",
    "    return (cm_x, cm_y, cm_z)"
   ]
  },
  {
   "cell_type": "code",
   "execution_count": 13,
   "metadata": {
    "collapsed": false
   },
   "outputs": [
    {
     "data": {
      "text/plain": [
       "(579.38, 389.69, 403.09)"
      ]
     },
     "execution_count": 13,
     "metadata": {},
     "output_type": "execute_result"
    }
   ],
   "source": [
    "getCenterMass(palletes[0])"
   ]
  },
  {
   "cell_type": "code",
   "execution_count": 14,
   "metadata": {
    "collapsed": true
   },
   "outputs": [],
   "source": [
    "def perimeter_all(boxes):\n",
    "    perimeter_all = 0\n",
    "    for each in boxes:\n",
    "        perimeter_all += each.getPerimeter()\n",
    "    return perimeter_all"
   ]
  },
  {
   "cell_type": "code",
   "execution_count": 15,
   "metadata": {
    "collapsed": false
   },
   "outputs": [
    {
     "name": "stdout",
     "output_type": "stream",
     "text": [
      "36000\n"
     ]
    }
   ],
   "source": [
    "print perimeter_all(palletes[0])"
   ]
  },
  {
   "cell_type": "code",
   "execution_count": 16,
   "metadata": {
    "collapsed": false
   },
   "outputs": [],
   "source": [
    "def perimeter_common(box1, box2):\n",
    "    \n",
    "    def getOverlap(a, b):\n",
    "            return max(0, min(a[1], b[1]) - max(a[0], b[0]))\n",
    "\n",
    "    def line_x(box1,box2):\n",
    "        l_x_1 = (box1.attPoint[0], box1.farCorner[0])\n",
    "        l_x_2 = (box2.attPoint[0], box2.farCorner[0])\n",
    "        return getOverlap(l_x_1, l_x_2)\n",
    "\n",
    "    def line_y(box1,box2):\n",
    "        l_y_1 = (box1.attPoint[1], box1.farCorner[1])\n",
    "        l_y_2 = (box2.attPoint[1], box2.farCorner[1])\n",
    "        return getOverlap(l_y_1, l_y_2)\n",
    "    \n",
    "    return ((line_x(box1,box2) + line_y(box1,box2)) * 2) if line_x(box1, box2) * line_y(box1, box2) != 0 else 0"
   ]
  },
  {
   "cell_type": "code",
   "execution_count": 17,
   "metadata": {
    "collapsed": false
   },
   "outputs": [],
   "source": [
    "def isSameHeight(box1, box2):\n",
    "    if box1.attPoint[2] == box2.farCorner[2]:\n",
    "        return True\n",
    "    else: \n",
    "        return False"
   ]
  },
  {
   "cell_type": "code",
   "execution_count": 18,
   "metadata": {
    "collapsed": true
   },
   "outputs": [],
   "source": [
    "def perimeter_com_all(boxes):\n",
    "    per_com_all = 0\n",
    "    for each in boxes:\n",
    "        for each1 in boxes:\n",
    "            if (each != each1 and isSameHeight(each, each1)):\n",
    "                per_com_all += perimeter_common(each, each1)\n",
    "    return per_com_all"
   ]
  },
  {
   "cell_type": "code",
   "execution_count": 19,
   "metadata": {
    "collapsed": false
   },
   "outputs": [
    {
     "name": "stdout",
     "output_type": "stream",
     "text": [
      "29600\n"
     ]
    }
   ],
   "source": [
    "print perimeter_com_all(palletes[0])"
   ]
  },
  {
   "cell_type": "code",
   "execution_count": 20,
   "metadata": {
    "collapsed": true
   },
   "outputs": [],
   "source": [
    "def getPalletHeight(boxes):\n",
    "    maxheight = 0\n",
    "    for each in boxes:\n",
    "        if each.getFarCorner()[2] > maxheight:\n",
    "            maxheight = each.getFarCorner()[2]\n",
    "    return maxheight"
   ]
  },
  {
   "cell_type": "code",
   "execution_count": 21,
   "metadata": {
    "collapsed": false
   },
   "outputs": [
    {
     "data": {
      "text/plain": [
       "800"
      ]
     },
     "execution_count": 21,
     "metadata": {},
     "output_type": "execute_result"
    }
   ],
   "source": [
    "getPalletHeight(palletes[0])"
   ]
  },
  {
   "cell_type": "code",
   "execution_count": 22,
   "metadata": {
    "collapsed": false
   },
   "outputs": [],
   "source": [
    "from __future__ import division"
   ]
  },
  {
   "cell_type": "code",
   "execution_count": 23,
   "metadata": {
    "collapsed": false
   },
   "outputs": [],
   "source": [
    "def getPerDiffMax(palletes):\n",
    "    per_diff_max = 0\n",
    "    for each in palletes:\n",
    "        if (perimeter_all(each) / (len(each) - 1) - perimeter_com_all(each) / (len(each) - 1) > per_diff_max):\n",
    "            per_diff_max = (perimeter_all(each) / (len(each) - 1) - perimeter_com_all(each) / (len(each) - 1))\n",
    "    return per_diff_max"
   ]
  },
  {
   "cell_type": "code",
   "execution_count": 24,
   "metadata": {
    "collapsed": false
   },
   "outputs": [
    {
     "name": "stdout",
     "output_type": "stream",
     "text": [
      "355.775280899\n"
     ]
    }
   ],
   "source": [
    "print getPerDiffMax(palletes)"
   ]
  },
  {
   "cell_type": "code",
   "execution_count": 25,
   "metadata": {
    "collapsed": true
   },
   "outputs": [],
   "source": [
    "def getCMWeightMax(palletes):\n",
    "    z_cm_w_max = 0\n",
    "    for each in palletes:\n",
    "        if ((getPalletHeight(each) - getCenterMass(each)[2]) / getPalletHeight(each)) > z_cm_w_max:\n",
    "            z_cm_w_max = ((getPalletHeight(each) - getCenterMass(each)[2]) / getPalletHeight(each))\n",
    "    return z_cm_w_max"
   ]
  },
  {
   "cell_type": "code",
   "execution_count": 26,
   "metadata": {
    "collapsed": false
   },
   "outputs": [
    {
     "name": "stdout",
     "output_type": "stream",
     "text": [
      "0.543949463482\n"
     ]
    }
   ],
   "source": [
    "print getCMWeightMax(palletes)"
   ]
  },
  {
   "cell_type": "code",
   "execution_count": 27,
   "metadata": {
    "collapsed": false
   },
   "outputs": [],
   "source": [
    "def stability_coeff(each):\n",
    "    return ((perimeter_all(each) / (len(each)-1) - perimeter_com_all(each) / (len(each)-1)) / getPerDiffMax(palletes) + \n",
    "             ((getPalletHeight(each) - getCenterMass(each)[2]) / getPalletHeight(each)) / getCMWeightMax(palletes)) / 2 "
   ]
  },
  {
   "cell_type": "code",
   "execution_count": 29,
   "metadata": {
    "collapsed": false
   },
   "outputs": [
    {
     "name": "stdout",
     "output_type": "stream",
     "text": [
      "Stability coefficient of 0-out.csv pallet: 0.884358\n",
      "Stability coefficient of 1-out.csv pallet: 0.766897\n",
      "Stability coefficient of 2-out.csv pallet: 0.707443\n",
      "Stability coefficient of 3-out.csv pallet: 0.831083\n",
      "Stability coefficient of 4-out.csv pallet: 0.758615\n",
      "Stability coefficient of 5-out.csv pallet: 0.731260\n",
      "Stability coefficient of 6-out.csv pallet: 0.708298\n",
      "Stability coefficient of 7-out.csv pallet: 0.733424\n",
      "Stability coefficient of 8-out.csv pallet: 0.761998\n",
      "Stability coefficient of 9-out.csv pallet: 0.676077\n",
      "Stability coefficient of out_02_01.csv pallet: 0.953818\n",
      "Stability coefficient of out_02_02.csv pallet: 0.803373\n",
      "Stability coefficient of out_02_03.csv pallet: 0.911551\n",
      "Stability coefficient of out_02_04.csv pallet: 0.920694\n",
      "Stability coefficient of out_02_05.csv pallet: 0.847926\n",
      "Stability coefficient of out_02_06.csv pallet: 0.869509\n",
      "Stability coefficient of out_02_07.csv pallet: 0.893642\n",
      "Stability coefficient of out_02_08.csv pallet: 0.782952\n",
      "Stability coefficient of out_02_09.csv pallet: 0.854198\n",
      "Stability coefficient of out_02_10.csv pallet: 0.911832\n"
     ]
    }
   ],
   "source": [
    "for i in range (0, len(palletes)):\n",
    "    print 'Stability coefficient of %s pallet: %f' % (filename[i], stability_coeff(palletes[i]))"
   ]
  },
  {
   "cell_type": "code",
   "execution_count": null,
   "metadata": {
    "collapsed": true
   },
   "outputs": [],
   "source": []
  }
 ],
 "metadata": {
  "kernelspec": {
   "display_name": "Python 2",
   "language": "python",
   "name": "python2"
  },
  "language_info": {
   "codemirror_mode": {
    "name": "ipython",
    "version": 2
   },
   "file_extension": ".py",
   "mimetype": "text/x-python",
   "name": "python",
   "nbconvert_exporter": "python",
   "pygments_lexer": "ipython2",
   "version": "2.7.11"
  }
 },
 "nbformat": 4,
 "nbformat_minor": 0
}
