{
 "cells": [
  {
   "cell_type": "markdown",
   "metadata": {},
   "source": [
    "# Packing stability problem"
   ]
  },
  {
   "cell_type": "code",
   "execution_count": 4,
   "metadata": {
    "collapsed": false
   },
   "outputs": [],
   "source": [
    "from pandas import DataFrame, read_csv\n",
    "import os\n",
    "from os import listdir\n",
    "from os.path import isfile, join\n",
    "import math\n",
    "import numpy as np\n",
    "import random\n",
    "import copy"
   ]
  },
  {
   "cell_type": "code",
   "execution_count": 5,
   "metadata": {
    "collapsed": false
   },
   "outputs": [
    {
     "data": {
      "text/plain": [
       "['0-out.csv',\n",
       " '1-out.csv',\n",
       " '2-out.csv',\n",
       " '3-out.csv',\n",
       " '4-out.csv',\n",
       " '5-out.csv',\n",
       " '6-out.csv',\n",
       " '7-out.csv',\n",
       " '8-out.csv',\n",
       " '9-out.csv']"
      ]
     },
     "execution_count": 5,
     "metadata": {},
     "output_type": "execute_result"
    }
   ],
   "source": [
    "file_list = [f for f in listdir(os.getcwd()) if isfile(f) and ('csv' in f)]\n",
    "file_list"
   ]
  },
  {
   "cell_type": "code",
   "execution_count": 6,
   "metadata": {
    "collapsed": false
   },
   "outputs": [
    {
     "data": {
      "text/html": [
       "<div>\n",
       "<table border=\"1\" class=\"dataframe\">\n",
       "  <thead>\n",
       "    <tr style=\"text-align: right;\">\n",
       "      <th></th>\n",
       "      <th>SKU</th>\n",
       "      <th>X1</th>\n",
       "      <th>Y1</th>\n",
       "      <th>Z1</th>\n",
       "      <th>X2</th>\n",
       "      <th>Y2</th>\n",
       "      <th>Z2</th>\n",
       "      <th>Aisle</th>\n",
       "      <th>Weight</th>\n",
       "    </tr>\n",
       "  </thead>\n",
       "  <tbody>\n",
       "    <tr>\n",
       "      <th>0</th>\n",
       "      <td>900001</td>\n",
       "      <td>0</td>\n",
       "      <td>0</td>\n",
       "      <td>0</td>\n",
       "      <td>600</td>\n",
       "      <td>400</td>\n",
       "      <td>200</td>\n",
       "      <td>1</td>\n",
       "      <td>12000</td>\n",
       "    </tr>\n",
       "    <tr>\n",
       "      <th>1</th>\n",
       "      <td>900001</td>\n",
       "      <td>0</td>\n",
       "      <td>400</td>\n",
       "      <td>0</td>\n",
       "      <td>600</td>\n",
       "      <td>800</td>\n",
       "      <td>200</td>\n",
       "      <td>1</td>\n",
       "      <td>12000</td>\n",
       "    </tr>\n",
       "    <tr>\n",
       "      <th>2</th>\n",
       "      <td>900001</td>\n",
       "      <td>600</td>\n",
       "      <td>0</td>\n",
       "      <td>0</td>\n",
       "      <td>1200</td>\n",
       "      <td>400</td>\n",
       "      <td>200</td>\n",
       "      <td>1</td>\n",
       "      <td>12000</td>\n",
       "    </tr>\n",
       "    <tr>\n",
       "      <th>3</th>\n",
       "      <td>900001</td>\n",
       "      <td>600</td>\n",
       "      <td>400</td>\n",
       "      <td>0</td>\n",
       "      <td>1200</td>\n",
       "      <td>800</td>\n",
       "      <td>200</td>\n",
       "      <td>1</td>\n",
       "      <td>12000</td>\n",
       "    </tr>\n",
       "    <tr>\n",
       "      <th>4</th>\n",
       "      <td>900001</td>\n",
       "      <td>0</td>\n",
       "      <td>0</td>\n",
       "      <td>200</td>\n",
       "      <td>600</td>\n",
       "      <td>400</td>\n",
       "      <td>400</td>\n",
       "      <td>1</td>\n",
       "      <td>12000</td>\n",
       "    </tr>\n",
       "    <tr>\n",
       "      <th>5</th>\n",
       "      <td>900001</td>\n",
       "      <td>0</td>\n",
       "      <td>400</td>\n",
       "      <td>200</td>\n",
       "      <td>600</td>\n",
       "      <td>800</td>\n",
       "      <td>400</td>\n",
       "      <td>1</td>\n",
       "      <td>12000</td>\n",
       "    </tr>\n",
       "    <tr>\n",
       "      <th>6</th>\n",
       "      <td>900001</td>\n",
       "      <td>600</td>\n",
       "      <td>0</td>\n",
       "      <td>200</td>\n",
       "      <td>1200</td>\n",
       "      <td>400</td>\n",
       "      <td>400</td>\n",
       "      <td>1</td>\n",
       "      <td>12000</td>\n",
       "    </tr>\n",
       "    <tr>\n",
       "      <th>7</th>\n",
       "      <td>900001</td>\n",
       "      <td>600</td>\n",
       "      <td>400</td>\n",
       "      <td>200</td>\n",
       "      <td>1200</td>\n",
       "      <td>800</td>\n",
       "      <td>400</td>\n",
       "      <td>1</td>\n",
       "      <td>12000</td>\n",
       "    </tr>\n",
       "    <tr>\n",
       "      <th>8</th>\n",
       "      <td>900001</td>\n",
       "      <td>0</td>\n",
       "      <td>0</td>\n",
       "      <td>400</td>\n",
       "      <td>600</td>\n",
       "      <td>400</td>\n",
       "      <td>600</td>\n",
       "      <td>1</td>\n",
       "      <td>12000</td>\n",
       "    </tr>\n",
       "    <tr>\n",
       "      <th>9</th>\n",
       "      <td>900001</td>\n",
       "      <td>0</td>\n",
       "      <td>400</td>\n",
       "      <td>400</td>\n",
       "      <td>600</td>\n",
       "      <td>800</td>\n",
       "      <td>600</td>\n",
       "      <td>1</td>\n",
       "      <td>12000</td>\n",
       "    </tr>\n",
       "    <tr>\n",
       "      <th>10</th>\n",
       "      <td>900001</td>\n",
       "      <td>600</td>\n",
       "      <td>0</td>\n",
       "      <td>400</td>\n",
       "      <td>1200</td>\n",
       "      <td>400</td>\n",
       "      <td>600</td>\n",
       "      <td>1</td>\n",
       "      <td>12000</td>\n",
       "    </tr>\n",
       "    <tr>\n",
       "      <th>11</th>\n",
       "      <td>900001</td>\n",
       "      <td>600</td>\n",
       "      <td>400</td>\n",
       "      <td>400</td>\n",
       "      <td>1200</td>\n",
       "      <td>800</td>\n",
       "      <td>600</td>\n",
       "      <td>1</td>\n",
       "      <td>12000</td>\n",
       "    </tr>\n",
       "    <tr>\n",
       "      <th>12</th>\n",
       "      <td>900002</td>\n",
       "      <td>0</td>\n",
       "      <td>0</td>\n",
       "      <td>600</td>\n",
       "      <td>400</td>\n",
       "      <td>200</td>\n",
       "      <td>800</td>\n",
       "      <td>2</td>\n",
       "      <td>5000</td>\n",
       "    </tr>\n",
       "    <tr>\n",
       "      <th>13</th>\n",
       "      <td>900002</td>\n",
       "      <td>0</td>\n",
       "      <td>200</td>\n",
       "      <td>600</td>\n",
       "      <td>400</td>\n",
       "      <td>400</td>\n",
       "      <td>800</td>\n",
       "      <td>2</td>\n",
       "      <td>5000</td>\n",
       "    </tr>\n",
       "    <tr>\n",
       "      <th>14</th>\n",
       "      <td>900002</td>\n",
       "      <td>400</td>\n",
       "      <td>0</td>\n",
       "      <td>600</td>\n",
       "      <td>800</td>\n",
       "      <td>200</td>\n",
       "      <td>800</td>\n",
       "      <td>2</td>\n",
       "      <td>5000</td>\n",
       "    </tr>\n",
       "    <tr>\n",
       "      <th>15</th>\n",
       "      <td>900002</td>\n",
       "      <td>0</td>\n",
       "      <td>400</td>\n",
       "      <td>600</td>\n",
       "      <td>400</td>\n",
       "      <td>600</td>\n",
       "      <td>800</td>\n",
       "      <td>2</td>\n",
       "      <td>5000</td>\n",
       "    </tr>\n",
       "    <tr>\n",
       "      <th>16</th>\n",
       "      <td>900002</td>\n",
       "      <td>400</td>\n",
       "      <td>200</td>\n",
       "      <td>600</td>\n",
       "      <td>800</td>\n",
       "      <td>400</td>\n",
       "      <td>800</td>\n",
       "      <td>2</td>\n",
       "      <td>5000</td>\n",
       "    </tr>\n",
       "    <tr>\n",
       "      <th>17</th>\n",
       "      <td>900002</td>\n",
       "      <td>0</td>\n",
       "      <td>600</td>\n",
       "      <td>600</td>\n",
       "      <td>400</td>\n",
       "      <td>800</td>\n",
       "      <td>800</td>\n",
       "      <td>2</td>\n",
       "      <td>5000</td>\n",
       "    </tr>\n",
       "    <tr>\n",
       "      <th>18</th>\n",
       "      <td>900002</td>\n",
       "      <td>400</td>\n",
       "      <td>400</td>\n",
       "      <td>600</td>\n",
       "      <td>800</td>\n",
       "      <td>600</td>\n",
       "      <td>800</td>\n",
       "      <td>2</td>\n",
       "      <td>5000</td>\n",
       "    </tr>\n",
       "    <tr>\n",
       "      <th>19</th>\n",
       "      <td>900002</td>\n",
       "      <td>400</td>\n",
       "      <td>600</td>\n",
       "      <td>600</td>\n",
       "      <td>800</td>\n",
       "      <td>800</td>\n",
       "      <td>800</td>\n",
       "      <td>2</td>\n",
       "      <td>5000</td>\n",
       "    </tr>\n",
       "    <tr>\n",
       "      <th>20</th>\n",
       "      <td>900002</td>\n",
       "      <td>800</td>\n",
       "      <td>0</td>\n",
       "      <td>600</td>\n",
       "      <td>1200</td>\n",
       "      <td>200</td>\n",
       "      <td>800</td>\n",
       "      <td>2</td>\n",
       "      <td>5000</td>\n",
       "    </tr>\n",
       "    <tr>\n",
       "      <th>21</th>\n",
       "      <td>900002</td>\n",
       "      <td>800</td>\n",
       "      <td>200</td>\n",
       "      <td>600</td>\n",
       "      <td>1200</td>\n",
       "      <td>400</td>\n",
       "      <td>800</td>\n",
       "      <td>2</td>\n",
       "      <td>5000</td>\n",
       "    </tr>\n",
       "  </tbody>\n",
       "</table>\n",
       "</div>"
      ],
      "text/plain": [
       "       SKU   X1   Y1   Z1    X2   Y2   Z2  Aisle  Weight\n",
       "0   900001    0    0    0   600  400  200      1   12000\n",
       "1   900001    0  400    0   600  800  200      1   12000\n",
       "2   900001  600    0    0  1200  400  200      1   12000\n",
       "3   900001  600  400    0  1200  800  200      1   12000\n",
       "4   900001    0    0  200   600  400  400      1   12000\n",
       "5   900001    0  400  200   600  800  400      1   12000\n",
       "6   900001  600    0  200  1200  400  400      1   12000\n",
       "7   900001  600  400  200  1200  800  400      1   12000\n",
       "8   900001    0    0  400   600  400  600      1   12000\n",
       "9   900001    0  400  400   600  800  600      1   12000\n",
       "10  900001  600    0  400  1200  400  600      1   12000\n",
       "11  900001  600  400  400  1200  800  600      1   12000\n",
       "12  900002    0    0  600   400  200  800      2    5000\n",
       "13  900002    0  200  600   400  400  800      2    5000\n",
       "14  900002  400    0  600   800  200  800      2    5000\n",
       "15  900002    0  400  600   400  600  800      2    5000\n",
       "16  900002  400  200  600   800  400  800      2    5000\n",
       "17  900002    0  600  600   400  800  800      2    5000\n",
       "18  900002  400  400  600   800  600  800      2    5000\n",
       "19  900002  400  600  600   800  800  800      2    5000\n",
       "20  900002  800    0  600  1200  200  800      2    5000\n",
       "21  900002  800  200  600  1200  400  800      2    5000"
      ]
     },
     "execution_count": 6,
     "metadata": {},
     "output_type": "execute_result"
    }
   ],
   "source": [
    "def loadData(file_name):\n",
    "    if file_name == '1-out.csv' or file_name == '2-out.csv' or file_name == '3-out.csv' or file_name == '4-out.csv':\n",
    "        data = read_csv(os.getcwd()+'/'+ file_name, sep=',', index_col=False, skiprows = 2, names=['SKU', 'X1', 'Y1', 'Z1', 'X2', 'Y2', 'Z2', 'Aisle', 'Weight'])\n",
    "    else:\n",
    "        data = read_csv(os.getcwd()+'/'+ file_name, sep=',', index_col=False, skiprows = 1, names=['SKU', 'X1', 'Y1', 'Z1', 'X2', 'Y2', 'Z2', 'Aisle', 'Weight'])\n",
    "    return data\n",
    "\n",
    "filename = []\n",
    "for each in file_list:\n",
    "    filename.append(each)\n",
    "datas = []\n",
    "for each in filename:\n",
    "    datas.append(loadData(each))\n",
    "datas[0].head(0)"
   ]
  },
  {
   "cell_type": "code",
   "execution_count": 7,
   "metadata": {
    "collapsed": false
   },
   "outputs": [],
   "source": [
    "class box():\n",
    "    def __init__(self, SKU, x_1, y_1, z_1, x_2, y_2, z_2, weight):\n",
    "        self.SKU = SKU\n",
    "        self.size = [x_2 - x_1, y_2 - y_1, z_2 - z_1]\n",
    "        #self.coords = self.size\n",
    "        #self.rotation = 3\n",
    "        self.weight = weight\n",
    "        self.attPoint = [x_1, y_1, z_1]\n",
    "        self.farCorner = [x_2, y_2, z_2]\n",
    "    \n",
    "    #вернуть SKU\n",
    "    def getSKU(self):\n",
    "        return self.SKU\n",
    "\n",
    "    #вернуть длину (x по умолчанию)\n",
    "    def getLength(self):\n",
    "        return self.size[0]\n",
    "\n",
    "    #вернуть ширину (y по умолчанию)\n",
    "    def getWidth(self):\n",
    "        return self.size[1]\n",
    "\n",
    "    #вернуть высоту (z по умолчанию)\n",
    "    def getHeight(self):\n",
    "        return self.size[2]\n",
    "    \n",
    "    #вернуть периметр основания коробки\n",
    "    def getPerimeter(self):\n",
    "        return self.size[0] * 2 + self.size[1] * 2\n",
    "\n",
    "    #вернуть свои исходные размеры\n",
    "    def getSize(self):\n",
    "        return list(self.size)\n",
    "\n",
    "    #вернуть вес\n",
    "    def getWeight(self):\n",
    "        return self.weight\n",
    "\n",
    "    def __repr__(self):\n",
    "        return 'Box(SKU=%s, attPoint=%s, farCorner=%s, weight = %s)' % (self.SKU,self.attPoint, self.farCorner, self.weight)\n",
    "\n",
    "    def getAttPoint(self):\n",
    "        return list(self.attPoint)\n",
    "\n",
    "    def getFarCorner(self):\n",
    "        return list(self.farCorner)\n",
    "\n",
    "    def getCenterMassX(self):\n",
    "        return ((self.farCorner[0]+self.attPoint[0]) / 2.0)\n",
    "    \n",
    "    def getCenterMassY(self):\n",
    "        return ((self.farCorner[1]+self.attPoint[1]) / 2.0)\n",
    "    \n",
    "    def getCenterMassZ(self):\n",
    "        return ((self.farCorner[2]+self.attPoint[2]) / 2.0)\n",
    "        \n",
    "    def getUpperPlane(self):\n",
    "        return ((self.attPoint[0],self.attPoint[1], self.farCorner[2]), (self.farCorner[0],self.farCorner[1], self.farCorner[2]))\n",
    "\n",
    "    def __eq__(self, other):\n",
    "        if (self.getSKU() == other.getSKU() and self.getFarCorner() == other.getFarCorner() \n",
    "                 and self.attPoint() == other.attPoint()):\n",
    "            return True\n",
    "        else:\n",
    "            return False\n",
    "\n",
    "    def __ne__(self, other):\n",
    "        if  not (self.farCorner[0] == other.farCorner[0] and \n",
    "                 self.farCorner[1] == other.farCorner[1] and \n",
    "                 self.farCorner[2] == other.farCorner[2]and \n",
    "                 self.attPoint[0] == other.attPoint[0] and \n",
    "                 self.attPoint[1] == other.attPoint[1] and \n",
    "                 self.attPoint[2] == other.attPoint[2]):\n",
    "            return True\n",
    "        else:\n",
    "            return False"
   ]
  },
  {
   "cell_type": "code",
   "execution_count": 8,
   "metadata": {
    "collapsed": false
   },
   "outputs": [
    {
     "data": {
      "text/plain": [
       "10"
      ]
     },
     "execution_count": 8,
     "metadata": {},
     "output_type": "execute_result"
    }
   ],
   "source": [
    "len(datas)"
   ]
  },
  {
   "cell_type": "code",
   "execution_count": 9,
   "metadata": {
    "collapsed": false
   },
   "outputs": [
    {
     "data": {
      "text/plain": [
       "[Box(SKU=900001, attPoint=[0, 0, 0], farCorner=[600, 400, 200], weight = 12000),\n",
       " Box(SKU=900001, attPoint=[0, 400, 0], farCorner=[600, 800, 200], weight = 12000),\n",
       " Box(SKU=900001, attPoint=[600, 0, 0], farCorner=[1200, 400, 200], weight = 12000),\n",
       " Box(SKU=900001, attPoint=[600, 400, 0], farCorner=[1200, 800, 200], weight = 12000),\n",
       " Box(SKU=900001, attPoint=[0, 0, 200], farCorner=[600, 400, 400], weight = 12000),\n",
       " Box(SKU=900001, attPoint=[0, 400, 200], farCorner=[600, 800, 400], weight = 12000),\n",
       " Box(SKU=900001, attPoint=[600, 0, 200], farCorner=[1200, 400, 400], weight = 12000),\n",
       " Box(SKU=900001, attPoint=[600, 400, 200], farCorner=[1200, 800, 400], weight = 12000),\n",
       " Box(SKU=900001, attPoint=[0, 0, 400], farCorner=[600, 400, 600], weight = 12000),\n",
       " Box(SKU=900001, attPoint=[0, 400, 400], farCorner=[600, 800, 600], weight = 12000),\n",
       " Box(SKU=900001, attPoint=[600, 0, 400], farCorner=[1200, 400, 600], weight = 12000),\n",
       " Box(SKU=900001, attPoint=[600, 400, 400], farCorner=[1200, 800, 600], weight = 12000),\n",
       " Box(SKU=900002, attPoint=[0, 0, 600], farCorner=[400, 200, 800], weight = 5000),\n",
       " Box(SKU=900002, attPoint=[0, 200, 600], farCorner=[400, 400, 800], weight = 5000),\n",
       " Box(SKU=900002, attPoint=[400, 0, 600], farCorner=[800, 200, 800], weight = 5000),\n",
       " Box(SKU=900002, attPoint=[0, 400, 600], farCorner=[400, 600, 800], weight = 5000),\n",
       " Box(SKU=900002, attPoint=[400, 200, 600], farCorner=[800, 400, 800], weight = 5000),\n",
       " Box(SKU=900002, attPoint=[0, 600, 600], farCorner=[400, 800, 800], weight = 5000),\n",
       " Box(SKU=900002, attPoint=[400, 400, 600], farCorner=[800, 600, 800], weight = 5000),\n",
       " Box(SKU=900002, attPoint=[400, 600, 600], farCorner=[800, 800, 800], weight = 5000),\n",
       " Box(SKU=900002, attPoint=[800, 0, 600], farCorner=[1200, 200, 800], weight = 5000),\n",
       " Box(SKU=900002, attPoint=[800, 200, 600], farCorner=[1200, 400, 800], weight = 5000)]"
      ]
     },
     "execution_count": 9,
     "metadata": {},
     "output_type": "execute_result"
    }
   ],
   "source": [
    "palletes = []\n",
    "for j in range(0, len(datas)):\n",
    "    boxes = []\n",
    "    #for i in range(0, len(datas[0])):\n",
    "    for i in range(0, len(datas[j])):\n",
    "        #print data['SKU'][i], data['X1'][i], data['Y1'][i], data['Z1'][i], data['X2'][i], data['Y2'][i], data['Z2'][i], data['Weight'][i]\n",
    "        boxes.append(box(datas[j]['SKU'][i], datas[j]['X1'][i], datas[j]['Y1'][i], datas[j]['Z1'][i], datas[j]['X2'][i], datas[j]['Y2'][i], datas[j]['Z2'][i], datas[j]['Weight'][i]))\n",
    "    palletes.append(boxes)\n",
    "palletes[0]"
   ]
  },
  {
   "cell_type": "code",
   "execution_count": 10,
   "metadata": {
    "collapsed": false
   },
   "outputs": [],
   "source": [
    "boxess = []\n",
    "b1 = box(1, 0,0,0,10,10,10, 100)\n",
    "b2 = box(1, 10,0,0,20,10,10, 100)\n",
    "boxess.append(b1)\n",
    "boxess.append(b2)"
   ]
  },
  {
   "cell_type": "code",
   "execution_count": 11,
   "metadata": {
    "collapsed": false
   },
   "outputs": [],
   "source": [
    "def getCenterMass(boxes):\n",
    "    #x_total = boxes[0].getCenterMassX()\n",
    "    #y_total = boxes[0].getCenterMassY()\n",
    "    #z_total = boxes[0].getCenterMassZ()\n",
    "    weight_total = 0\n",
    "    sum_r_x = 0\n",
    "    sum_r_y = 0\n",
    "    sum_r_z = 0\n",
    "    \n",
    "    for each in boxes:\n",
    "        sum_r_x += each.getCenterMassX() * each.getWeight()\n",
    "        sum_r_y += each.getCenterMassY() * each.getWeight()\n",
    "        sum_r_z += each.getCenterMassZ() * each.getWeight()\n",
    "        #x_total = (each.getCenterMassX() * each.getWeight() + x_total * weight_total) / (weight_total + each.getWeight())\n",
    "        #y_total = (each.getCenterMassY() * each.getWeight() + y_total * weight_total) / (weight_total + each.getWeight())\n",
    "        #z_total = (each.getCenterMassZ() * each.getWeight() + x_total * weight_total) / (weight_total + each.getWeight())\n",
    "        weight_total += each.getWeight()\n",
    "    \n",
    "    cm_x = round(sum_r_x / weight_total, 2)\n",
    "    cm_y = round(sum_r_y / weight_total, 2)\n",
    "    cm_z = round(sum_r_z / weight_total, 2)\n",
    "    \n",
    "    return (cm_x, cm_y, cm_z)"
   ]
  },
  {
   "cell_type": "code",
   "execution_count": 12,
   "metadata": {
    "collapsed": false
   },
   "outputs": [
    {
     "data": {
      "text/plain": [
       "(579.38, 389.69, 403.09)"
      ]
     },
     "execution_count": 12,
     "metadata": {},
     "output_type": "execute_result"
    }
   ],
   "source": [
    "getCenterMass(palletes[0])"
   ]
  },
  {
   "cell_type": "code",
   "execution_count": 13,
   "metadata": {
    "collapsed": true
   },
   "outputs": [],
   "source": [
    "def perimeter_all(boxes):\n",
    "    perimeter_all = 0\n",
    "    for each in boxes:\n",
    "        perimeter_all += each.getPerimeter()\n",
    "    return perimeter_all"
   ]
  },
  {
   "cell_type": "code",
   "execution_count": 14,
   "metadata": {
    "collapsed": false
   },
   "outputs": [
    {
     "name": "stdout",
     "output_type": "stream",
     "text": [
      "36000\n"
     ]
    }
   ],
   "source": [
    "print perimeter_all(palletes[0])"
   ]
  },
  {
   "cell_type": "code",
   "execution_count": 15,
   "metadata": {
    "collapsed": false
   },
   "outputs": [],
   "source": [
    "def perimeter_common(box1, box2):\n",
    "    \n",
    "    def getOverlap(a, b):\n",
    "            return max(0, min(a[1], b[1]) - max(a[0], b[0]))\n",
    "\n",
    "    def line_x(box1,box2):\n",
    "        l_x_1 = (box1.attPoint[0], box1.farCorner[0])\n",
    "        l_x_2 = (box2.attPoint[0], box2.farCorner[0])\n",
    "        return getOverlap(l_x_1, l_x_2)\n",
    "\n",
    "    def line_y(box1,box2):\n",
    "        l_y_1 = (box1.attPoint[1], box1.farCorner[1])\n",
    "        l_y_2 = (box2.attPoint[1], box2.farCorner[1])\n",
    "        return getOverlap(l_y_1, l_y_2)\n",
    "    \n",
    "    return ((line_x(box1,box2) + line_y(box1,box2)) * 2) if line_x(box1, box2) * line_y(box1, box2) != 0 else 0"
   ]
  },
  {
   "cell_type": "code",
   "execution_count": 16,
   "metadata": {
    "collapsed": false
   },
   "outputs": [],
   "source": [
    "def isSameHeight(box1, box2):\n",
    "    if box1.attPoint[2] == box2.farCorner[2]:\n",
    "        return True\n",
    "    else: \n",
    "        return False"
   ]
  },
  {
   "cell_type": "code",
   "execution_count": 17,
   "metadata": {
    "collapsed": true
   },
   "outputs": [],
   "source": [
    "def perimeter_com_all(boxes):\n",
    "    per_com_all = 0\n",
    "    for each in boxes:\n",
    "        for each1 in boxes:\n",
    "            if (each != each1 and isSameHeight(each, each1)):\n",
    "                per_com_all += perimeter_common(each, each1)\n",
    "    return per_com_all"
   ]
  },
  {
   "cell_type": "code",
   "execution_count": 18,
   "metadata": {
    "collapsed": false
   },
   "outputs": [
    {
     "name": "stdout",
     "output_type": "stream",
     "text": [
      "29600\n"
     ]
    }
   ],
   "source": [
    "print perimeter_com_all(palletes[0])"
   ]
  },
  {
   "cell_type": "code",
   "execution_count": 19,
   "metadata": {
    "collapsed": true
   },
   "outputs": [],
   "source": [
    "def getPalletHeight(boxes):\n",
    "    maxheight = 0\n",
    "    for each in boxes:\n",
    "        if each.getFarCorner()[2] > maxheight:\n",
    "            maxheight = each.getFarCorner()[2]\n",
    "    return maxheight"
   ]
  },
  {
   "cell_type": "code",
   "execution_count": 20,
   "metadata": {
    "collapsed": false
   },
   "outputs": [
    {
     "data": {
      "text/plain": [
       "800"
      ]
     },
     "execution_count": 20,
     "metadata": {},
     "output_type": "execute_result"
    }
   ],
   "source": [
    "getPalletHeight(palletes[0])"
   ]
  },
  {
   "cell_type": "code",
   "execution_count": 55,
   "metadata": {
    "collapsed": false
   },
   "outputs": [],
   "source": [
    "from __future__ import division"
   ]
  },
  {
   "cell_type": "code",
   "execution_count": 62,
   "metadata": {
    "collapsed": false
   },
   "outputs": [],
   "source": [
    "def getPerDiffMax(palletes):\n",
    "    per_diff_max = 0\n",
    "    for each in palletes:\n",
    "        if (perimeter_all(each) / (len(each) - 1) - perimeter_com_all(each) / (len(each) - 1) > per_diff_max):\n",
    "            per_diff_max = (perimeter_all(each) / (len(each) - 1) - perimeter_com_all(each) / (len(each) - 1))\n",
    "    return per_diff_max"
   ]
  },
  {
   "cell_type": "code",
   "execution_count": 63,
   "metadata": {
    "collapsed": false
   },
   "outputs": [
    {
     "name": "stdout",
     "output_type": "stream",
     "text": [
      "304.761904762\n"
     ]
    }
   ],
   "source": [
    "print getPerDiffMax(palletes)"
   ]
  },
  {
   "cell_type": "code",
   "execution_count": 64,
   "metadata": {
    "collapsed": true
   },
   "outputs": [],
   "source": [
    "def getCMWeightMax(palletes):\n",
    "    z_cm_w_max = 0\n",
    "    for each in palletes:\n",
    "        if ((getPalletHeight(each) - getCenterMass(each)[2]) / getPalletHeight(each)) > z_cm_w_max:\n",
    "            z_cm_w_max = ((getPalletHeight(each) - getCenterMass(each)[2]) / getPalletHeight(each))\n",
    "    return z_cm_w_max"
   ]
  },
  {
   "cell_type": "code",
   "execution_count": 65,
   "metadata": {
    "collapsed": false
   },
   "outputs": [
    {
     "name": "stdout",
     "output_type": "stream",
     "text": [
      "0.543949463482\n"
     ]
    }
   ],
   "source": [
    "print getCMWeightMax(palletes)"
   ]
  },
  {
   "cell_type": "code",
   "execution_count": 66,
   "metadata": {
    "collapsed": false
   },
   "outputs": [],
   "source": [
    "def stability_coeff(each):\n",
    "    return ((perimeter_all(each) / (len(each)-1) - perimeter_com_all(each) / (len(each)-1)) / getPerDiffMax(palletes) + \n",
    "             ((getPalletHeight(each) - getCenterMass(each)[2]) / getPalletHeight(each)) / getCMWeightMax(palletes)) / 2 "
   ]
  },
  {
   "cell_type": "code",
   "execution_count": 70,
   "metadata": {
    "collapsed": false
   },
   "outputs": [
    {
     "name": "stdout",
     "output_type": "stream",
     "text": [
      "1 pallet stability coefficient: 0.956051\n",
      "2 pallet stability coefficient: 0.818133\n",
      "3 pallet stability coefficient: 0.747721\n",
      "4 pallet stability coefficient: 0.892077\n",
      "5 pallet stability coefficient: 0.811501\n",
      "6 pallet stability coefficient: 0.777262\n",
      "7 pallet stability coefficient: 0.754600\n",
      "8 pallet stability coefficient: 0.782321\n",
      "9 pallet stability coefficient: 0.805853\n",
      "10 pallet stability coefficient: 0.713901\n"
     ]
    }
   ],
   "source": [
    "for i in range (0, len(palletes)):\n",
    "    print '%s pallet Stability coefficient of: %f' % (i+1, stability_coeff(palletes[i]))"
   ]
  },
  {
   "cell_type": "code",
   "execution_count": null,
   "metadata": {
    "collapsed": true
   },
   "outputs": [],
   "source": []
  }
 ],
 "metadata": {
  "kernelspec": {
   "display_name": "Python 2",
   "language": "python",
   "name": "python2"
  },
  "language_info": {
   "codemirror_mode": {
    "name": "ipython",
    "version": 2
   },
   "file_extension": ".py",
   "mimetype": "text/x-python",
   "name": "python",
   "nbconvert_exporter": "python",
   "pygments_lexer": "ipython2",
   "version": "2.7.11"
  }
 },
 "nbformat": 4,
 "nbformat_minor": 0
}
